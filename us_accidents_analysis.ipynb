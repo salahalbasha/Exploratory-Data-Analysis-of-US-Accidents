{
  "cells": [
    {
      "cell_type": "markdown",
      "metadata": {
        "id": "view-in-github",
        "colab_type": "text"
      },
      "source": [
        "<a href=\"https://colab.research.google.com/github/salahalbasha/US-Accidents/blob/main/us_accidents_analysis.ipynb\" target=\"_parent\"><img src=\"https://colab.research.google.com/assets/colab-badge.svg\" alt=\"Open In Colab\"/></a>"
      ]
    },
    {
      "cell_type": "code",
      "execution_count": null,
      "metadata": {
        "id": "u1_AmQnGdkVC"
      },
      "outputs": [],
      "source": [
        "# Jovian Commit Essentials\n",
        "# Please retain and execute this cell without modifying the contents for `jovian.commit` to work\n",
        "!pip install jovian --upgrade -q\n",
        "import jovian\n",
        "jovian.set_project('us-accidents-analysis')\n",
        "jovian.set_colab_id('1R34Kz-qYy-AyVMYW0s_0iMI97H5OweL-')"
      ]
    },
    {
      "cell_type": "markdown",
      "metadata": {
        "id": "ILtC0lXWb73w"
      },
      "source": [
        "# Us-Accidents-Analysis\n",
        "\n",
        "Use the \"Run\" button to execute the code."
      ]
    },
    {
      "cell_type": "markdown",
      "metadata": {
        "id": "m1P5-42OcV86"
      },
      "source": [
        "# US Accidents Exploratory Data Analysis\n",
        "\n",
        "This large real-world dataset was taken from Kaggle and describes countrywide car accidents. Note that this dataset covers 49 states of the USA, excluding New York, so some data is missing/incorrect. Furthermore, some of the missing data is due to the accident data being collected from February 2016 to Dec 2021.\n",
        "\n",
        "\n",
        "The analysis of US Accidents is useful because we will be able to find some great insight on when and where most accidents are happening in the United States and perhaps draw some hypothesis to anwer the why component based on the results.\n",
        "\n",
        "\n",
        "This dataset was intriguing to me because I wwanted to shed some light on how important safe-driving is for your safety and everyone else's."
      ]
    },
    {
      "cell_type": "markdown",
      "metadata": {
        "id": "e_NpFLjud1rt"
      },
      "source": [
        "## Downloading the Data"
      ]
    },
    {
      "cell_type": "code",
      "execution_count": null,
      "metadata": {
        "id": "I7rl9ytSb73y"
      },
      "outputs": [],
      "source": [
        "pip install opendatasets --upgrade --quiet"
      ]
    },
    {
      "cell_type": "code",
      "execution_count": null,
      "metadata": {
        "colab": {
          "base_uri": "https://localhost:8080/"
        },
        "id": "VVPcPvYCb73z",
        "outputId": "6ef51c5e-0015-4e14-a3bd-8d48b5590130"
      },
      "outputs": [
        {
          "name": "stdout",
          "output_type": "stream",
          "text": [
            "Please provide your Kaggle credentials to download this dataset. Learn more: http://bit.ly/kaggle-creds\n",
            "Your Kaggle username: salahalb\n",
            "Your Kaggle Key: ··········\n",
            "Downloading us-accidents.zip to ./us-accidents\n"
          ]
        },
        {
          "name": "stderr",
          "output_type": "stream",
          "text": [
            "100%|██████████| 269M/269M [00:07<00:00, 38.3MB/s]\n"
          ]
        },
        {
          "name": "stdout",
          "output_type": "stream",
          "text": [
            "\n"
          ]
        }
      ],
      "source": [
        "import opendatasets as od\n",
        "download_url = 'https://www.kaggle.com/datasets/sobhanmoosavi/us-accidents'\n",
        "od.download(download_url)"
      ]
    },
    {
      "cell_type": "code",
      "execution_count": null,
      "metadata": {
        "id": "sLjrCHcofK5n"
      },
      "outputs": [],
      "source": [
        "data_filename = './us-accidents/US_Accidents_Dec21.csv'"
      ]
    },
    {
      "cell_type": "markdown",
      "metadata": {
        "id": "CXA3NmtodFY5"
      },
      "source": [
        "## Data Preparation and Cleaning\n",
        "\n",
        "- Load files using Pandas\n",
        "- Analyse the inforation contained within said file's data/columns\n",
        "- Fix any missing/incorrect values"
      ]
    },
    {
      "cell_type": "code",
      "execution_count": null,
      "metadata": {
        "id": "mQ-XCXEZb730"
      },
      "outputs": [],
      "source": [
        "import pandas as pd"
      ]
    },
    {
      "cell_type": "code",
      "execution_count": null,
      "metadata": {
        "id": "I_Q6b2gOcmLX"
      },
      "outputs": [],
      "source": [
        "df = pd.read_csv(data_filename)"
      ]
    },
    {
      "cell_type": "code",
      "execution_count": null,
      "metadata": {
        "colab": {
          "base_uri": "https://localhost:8080/",
          "height": 939
        },
        "id": "fPPX4qaBcmB_",
        "outputId": "77e09253-ae36-42ba-f8c5-1512504d0542"
      },
      "outputs": [
        {
          "data": {
            "text/html": [
              "\n",
              "  <div id=\"df-36286fd6-79c8-49c9-933e-de67701ab51e\">\n",
              "    <div class=\"colab-df-container\">\n",
              "      <div>\n",
              "<style scoped>\n",
              "    .dataframe tbody tr th:only-of-type {\n",
              "        vertical-align: middle;\n",
              "    }\n",
              "\n",
              "    .dataframe tbody tr th {\n",
              "        vertical-align: top;\n",
              "    }\n",
              "\n",
              "    .dataframe thead th {\n",
              "        text-align: right;\n",
              "    }\n",
              "</style>\n",
              "<table border=\"1\" class=\"dataframe\">\n",
              "  <thead>\n",
              "    <tr style=\"text-align: right;\">\n",
              "      <th></th>\n",
              "      <th>ID</th>\n",
              "      <th>Severity</th>\n",
              "      <th>Start_Time</th>\n",
              "      <th>End_Time</th>\n",
              "      <th>Start_Lat</th>\n",
              "      <th>Start_Lng</th>\n",
              "      <th>End_Lat</th>\n",
              "      <th>End_Lng</th>\n",
              "      <th>Distance(mi)</th>\n",
              "      <th>Description</th>\n",
              "      <th>...</th>\n",
              "      <th>Roundabout</th>\n",
              "      <th>Station</th>\n",
              "      <th>Stop</th>\n",
              "      <th>Traffic_Calming</th>\n",
              "      <th>Traffic_Signal</th>\n",
              "      <th>Turning_Loop</th>\n",
              "      <th>Sunrise_Sunset</th>\n",
              "      <th>Civil_Twilight</th>\n",
              "      <th>Nautical_Twilight</th>\n",
              "      <th>Astronomical_Twilight</th>\n",
              "    </tr>\n",
              "  </thead>\n",
              "  <tbody>\n",
              "    <tr>\n",
              "      <th>0</th>\n",
              "      <td>A-1</td>\n",
              "      <td>3</td>\n",
              "      <td>2016-02-08 00:37:08</td>\n",
              "      <td>2016-02-08 06:37:08</td>\n",
              "      <td>40.108910</td>\n",
              "      <td>-83.092860</td>\n",
              "      <td>40.112060</td>\n",
              "      <td>-83.031870</td>\n",
              "      <td>3.230</td>\n",
              "      <td>Between Sawmill Rd/Exit 20 and OH-315/Olentang...</td>\n",
              "      <td>...</td>\n",
              "      <td>False</td>\n",
              "      <td>False</td>\n",
              "      <td>False</td>\n",
              "      <td>False</td>\n",
              "      <td>False</td>\n",
              "      <td>False</td>\n",
              "      <td>Night</td>\n",
              "      <td>Night</td>\n",
              "      <td>Night</td>\n",
              "      <td>Night</td>\n",
              "    </tr>\n",
              "    <tr>\n",
              "      <th>1</th>\n",
              "      <td>A-2</td>\n",
              "      <td>2</td>\n",
              "      <td>2016-02-08 05:56:20</td>\n",
              "      <td>2016-02-08 11:56:20</td>\n",
              "      <td>39.865420</td>\n",
              "      <td>-84.062800</td>\n",
              "      <td>39.865010</td>\n",
              "      <td>-84.048730</td>\n",
              "      <td>0.747</td>\n",
              "      <td>At OH-4/OH-235/Exit 41 - Accident.</td>\n",
              "      <td>...</td>\n",
              "      <td>False</td>\n",
              "      <td>False</td>\n",
              "      <td>False</td>\n",
              "      <td>False</td>\n",
              "      <td>False</td>\n",
              "      <td>False</td>\n",
              "      <td>Night</td>\n",
              "      <td>Night</td>\n",
              "      <td>Night</td>\n",
              "      <td>Night</td>\n",
              "    </tr>\n",
              "    <tr>\n",
              "      <th>2</th>\n",
              "      <td>A-3</td>\n",
              "      <td>2</td>\n",
              "      <td>2016-02-08 06:15:39</td>\n",
              "      <td>2016-02-08 12:15:39</td>\n",
              "      <td>39.102660</td>\n",
              "      <td>-84.524680</td>\n",
              "      <td>39.102090</td>\n",
              "      <td>-84.523960</td>\n",
              "      <td>0.055</td>\n",
              "      <td>At I-71/US-50/Exit 1 - Accident.</td>\n",
              "      <td>...</td>\n",
              "      <td>False</td>\n",
              "      <td>False</td>\n",
              "      <td>False</td>\n",
              "      <td>False</td>\n",
              "      <td>False</td>\n",
              "      <td>False</td>\n",
              "      <td>Night</td>\n",
              "      <td>Night</td>\n",
              "      <td>Night</td>\n",
              "      <td>Day</td>\n",
              "    </tr>\n",
              "    <tr>\n",
              "      <th>3</th>\n",
              "      <td>A-4</td>\n",
              "      <td>2</td>\n",
              "      <td>2016-02-08 06:51:45</td>\n",
              "      <td>2016-02-08 12:51:45</td>\n",
              "      <td>41.062130</td>\n",
              "      <td>-81.537840</td>\n",
              "      <td>41.062170</td>\n",
              "      <td>-81.535470</td>\n",
              "      <td>0.123</td>\n",
              "      <td>At Dart Ave/Exit 21 - Accident.</td>\n",
              "      <td>...</td>\n",
              "      <td>False</td>\n",
              "      <td>False</td>\n",
              "      <td>False</td>\n",
              "      <td>False</td>\n",
              "      <td>False</td>\n",
              "      <td>False</td>\n",
              "      <td>Night</td>\n",
              "      <td>Night</td>\n",
              "      <td>Day</td>\n",
              "      <td>Day</td>\n",
              "    </tr>\n",
              "    <tr>\n",
              "      <th>4</th>\n",
              "      <td>A-5</td>\n",
              "      <td>3</td>\n",
              "      <td>2016-02-08 07:53:43</td>\n",
              "      <td>2016-02-08 13:53:43</td>\n",
              "      <td>39.172393</td>\n",
              "      <td>-84.492792</td>\n",
              "      <td>39.170476</td>\n",
              "      <td>-84.501798</td>\n",
              "      <td>0.500</td>\n",
              "      <td>At Mitchell Ave/Exit 6 - Accident.</td>\n",
              "      <td>...</td>\n",
              "      <td>False</td>\n",
              "      <td>False</td>\n",
              "      <td>False</td>\n",
              "      <td>False</td>\n",
              "      <td>False</td>\n",
              "      <td>False</td>\n",
              "      <td>Day</td>\n",
              "      <td>Day</td>\n",
              "      <td>Day</td>\n",
              "      <td>Day</td>\n",
              "    </tr>\n",
              "    <tr>\n",
              "      <th>...</th>\n",
              "      <td>...</td>\n",
              "      <td>...</td>\n",
              "      <td>...</td>\n",
              "      <td>...</td>\n",
              "      <td>...</td>\n",
              "      <td>...</td>\n",
              "      <td>...</td>\n",
              "      <td>...</td>\n",
              "      <td>...</td>\n",
              "      <td>...</td>\n",
              "      <td>...</td>\n",
              "      <td>...</td>\n",
              "      <td>...</td>\n",
              "      <td>...</td>\n",
              "      <td>...</td>\n",
              "      <td>...</td>\n",
              "      <td>...</td>\n",
              "      <td>...</td>\n",
              "      <td>...</td>\n",
              "      <td>...</td>\n",
              "      <td>...</td>\n",
              "    </tr>\n",
              "    <tr>\n",
              "      <th>2845337</th>\n",
              "      <td>A-2845338</td>\n",
              "      <td>2</td>\n",
              "      <td>2019-08-23 18:03:25</td>\n",
              "      <td>2019-08-23 18:32:01</td>\n",
              "      <td>34.002480</td>\n",
              "      <td>-117.379360</td>\n",
              "      <td>33.998880</td>\n",
              "      <td>-117.370940</td>\n",
              "      <td>0.543</td>\n",
              "      <td>At Market St - Accident.</td>\n",
              "      <td>...</td>\n",
              "      <td>False</td>\n",
              "      <td>False</td>\n",
              "      <td>False</td>\n",
              "      <td>False</td>\n",
              "      <td>False</td>\n",
              "      <td>False</td>\n",
              "      <td>Day</td>\n",
              "      <td>Day</td>\n",
              "      <td>Day</td>\n",
              "      <td>Day</td>\n",
              "    </tr>\n",
              "    <tr>\n",
              "      <th>2845338</th>\n",
              "      <td>A-2845339</td>\n",
              "      <td>2</td>\n",
              "      <td>2019-08-23 19:11:30</td>\n",
              "      <td>2019-08-23 19:38:23</td>\n",
              "      <td>32.766960</td>\n",
              "      <td>-117.148060</td>\n",
              "      <td>32.765550</td>\n",
              "      <td>-117.153630</td>\n",
              "      <td>0.338</td>\n",
              "      <td>At Camino Del Rio/Mission Center Rd - Accident.</td>\n",
              "      <td>...</td>\n",
              "      <td>False</td>\n",
              "      <td>False</td>\n",
              "      <td>False</td>\n",
              "      <td>False</td>\n",
              "      <td>False</td>\n",
              "      <td>False</td>\n",
              "      <td>Day</td>\n",
              "      <td>Day</td>\n",
              "      <td>Day</td>\n",
              "      <td>Day</td>\n",
              "    </tr>\n",
              "    <tr>\n",
              "      <th>2845339</th>\n",
              "      <td>A-2845340</td>\n",
              "      <td>2</td>\n",
              "      <td>2019-08-23 19:00:21</td>\n",
              "      <td>2019-08-23 19:28:49</td>\n",
              "      <td>33.775450</td>\n",
              "      <td>-117.847790</td>\n",
              "      <td>33.777400</td>\n",
              "      <td>-117.857270</td>\n",
              "      <td>0.561</td>\n",
              "      <td>At Glassell St/Grand Ave - Accident. in the ri...</td>\n",
              "      <td>...</td>\n",
              "      <td>False</td>\n",
              "      <td>False</td>\n",
              "      <td>False</td>\n",
              "      <td>False</td>\n",
              "      <td>False</td>\n",
              "      <td>False</td>\n",
              "      <td>Day</td>\n",
              "      <td>Day</td>\n",
              "      <td>Day</td>\n",
              "      <td>Day</td>\n",
              "    </tr>\n",
              "    <tr>\n",
              "      <th>2845340</th>\n",
              "      <td>A-2845341</td>\n",
              "      <td>2</td>\n",
              "      <td>2019-08-23 19:00:21</td>\n",
              "      <td>2019-08-23 19:29:42</td>\n",
              "      <td>33.992460</td>\n",
              "      <td>-118.403020</td>\n",
              "      <td>33.983110</td>\n",
              "      <td>-118.395650</td>\n",
              "      <td>0.772</td>\n",
              "      <td>At CA-90/Marina Fwy/Jefferson Blvd - Accident.</td>\n",
              "      <td>...</td>\n",
              "      <td>False</td>\n",
              "      <td>False</td>\n",
              "      <td>False</td>\n",
              "      <td>False</td>\n",
              "      <td>False</td>\n",
              "      <td>False</td>\n",
              "      <td>Day</td>\n",
              "      <td>Day</td>\n",
              "      <td>Day</td>\n",
              "      <td>Day</td>\n",
              "    </tr>\n",
              "    <tr>\n",
              "      <th>2845341</th>\n",
              "      <td>A-2845342</td>\n",
              "      <td>2</td>\n",
              "      <td>2019-08-23 18:52:06</td>\n",
              "      <td>2019-08-23 19:21:31</td>\n",
              "      <td>34.133930</td>\n",
              "      <td>-117.230920</td>\n",
              "      <td>34.137360</td>\n",
              "      <td>-117.239340</td>\n",
              "      <td>0.537</td>\n",
              "      <td>At Highland Ave/Arden Ave - Accident.</td>\n",
              "      <td>...</td>\n",
              "      <td>False</td>\n",
              "      <td>False</td>\n",
              "      <td>False</td>\n",
              "      <td>False</td>\n",
              "      <td>False</td>\n",
              "      <td>False</td>\n",
              "      <td>Day</td>\n",
              "      <td>Day</td>\n",
              "      <td>Day</td>\n",
              "      <td>Day</td>\n",
              "    </tr>\n",
              "  </tbody>\n",
              "</table>\n",
              "<p>2845342 rows × 47 columns</p>\n",
              "</div>\n",
              "      <button class=\"colab-df-convert\" onclick=\"convertToInteractive('df-36286fd6-79c8-49c9-933e-de67701ab51e')\"\n",
              "              title=\"Convert this dataframe to an interactive table.\"\n",
              "              style=\"display:none;\">\n",
              "        \n",
              "  <svg xmlns=\"http://www.w3.org/2000/svg\" height=\"24px\"viewBox=\"0 0 24 24\"\n",
              "       width=\"24px\">\n",
              "    <path d=\"M0 0h24v24H0V0z\" fill=\"none\"/>\n",
              "    <path d=\"M18.56 5.44l.94 2.06.94-2.06 2.06-.94-2.06-.94-.94-2.06-.94 2.06-2.06.94zm-11 1L8.5 8.5l.94-2.06 2.06-.94-2.06-.94L8.5 2.5l-.94 2.06-2.06.94zm10 10l.94 2.06.94-2.06 2.06-.94-2.06-.94-.94-2.06-.94 2.06-2.06.94z\"/><path d=\"M17.41 7.96l-1.37-1.37c-.4-.4-.92-.59-1.43-.59-.52 0-1.04.2-1.43.59L10.3 9.45l-7.72 7.72c-.78.78-.78 2.05 0 2.83L4 21.41c.39.39.9.59 1.41.59.51 0 1.02-.2 1.41-.59l7.78-7.78 2.81-2.81c.8-.78.8-2.07 0-2.86zM5.41 20L4 18.59l7.72-7.72 1.47 1.35L5.41 20z\"/>\n",
              "  </svg>\n",
              "      </button>\n",
              "      \n",
              "  <style>\n",
              "    .colab-df-container {\n",
              "      display:flex;\n",
              "      flex-wrap:wrap;\n",
              "      gap: 12px;\n",
              "    }\n",
              "\n",
              "    .colab-df-convert {\n",
              "      background-color: #E8F0FE;\n",
              "      border: none;\n",
              "      border-radius: 50%;\n",
              "      cursor: pointer;\n",
              "      display: none;\n",
              "      fill: #1967D2;\n",
              "      height: 32px;\n",
              "      padding: 0 0 0 0;\n",
              "      width: 32px;\n",
              "    }\n",
              "\n",
              "    .colab-df-convert:hover {\n",
              "      background-color: #E2EBFA;\n",
              "      box-shadow: 0px 1px 2px rgba(60, 64, 67, 0.3), 0px 1px 3px 1px rgba(60, 64, 67, 0.15);\n",
              "      fill: #174EA6;\n",
              "    }\n",
              "\n",
              "    [theme=dark] .colab-df-convert {\n",
              "      background-color: #3B4455;\n",
              "      fill: #D2E3FC;\n",
              "    }\n",
              "\n",
              "    [theme=dark] .colab-df-convert:hover {\n",
              "      background-color: #434B5C;\n",
              "      box-shadow: 0px 1px 3px 1px rgba(0, 0, 0, 0.15);\n",
              "      filter: drop-shadow(0px 1px 2px rgba(0, 0, 0, 0.3));\n",
              "      fill: #FFFFFF;\n",
              "    }\n",
              "  </style>\n",
              "\n",
              "      <script>\n",
              "        const buttonEl =\n",
              "          document.querySelector('#df-36286fd6-79c8-49c9-933e-de67701ab51e button.colab-df-convert');\n",
              "        buttonEl.style.display =\n",
              "          google.colab.kernel.accessAllowed ? 'block' : 'none';\n",
              "\n",
              "        async function convertToInteractive(key) {\n",
              "          const element = document.querySelector('#df-36286fd6-79c8-49c9-933e-de67701ab51e');\n",
              "          const dataTable =\n",
              "            await google.colab.kernel.invokeFunction('convertToInteractive',\n",
              "                                                     [key], {});\n",
              "          if (!dataTable) return;\n",
              "\n",
              "          const docLinkHtml = 'Like what you see? Visit the ' +\n",
              "            '<a target=\"_blank\" href=https://colab.research.google.com/notebooks/data_table.ipynb>data table notebook</a>'\n",
              "            + ' to learn more about interactive tables.';\n",
              "          element.innerHTML = '';\n",
              "          dataTable['output_type'] = 'display_data';\n",
              "          await google.colab.output.renderOutput(dataTable, element);\n",
              "          const docLink = document.createElement('div');\n",
              "          docLink.innerHTML = docLinkHtml;\n",
              "          element.appendChild(docLink);\n",
              "        }\n",
              "      </script>\n",
              "    </div>\n",
              "  </div>\n",
              "  "
            ],
            "text/plain": [
              "                ID  Severity           Start_Time             End_Time  \\\n",
              "0              A-1         3  2016-02-08 00:37:08  2016-02-08 06:37:08   \n",
              "1              A-2         2  2016-02-08 05:56:20  2016-02-08 11:56:20   \n",
              "2              A-3         2  2016-02-08 06:15:39  2016-02-08 12:15:39   \n",
              "3              A-4         2  2016-02-08 06:51:45  2016-02-08 12:51:45   \n",
              "4              A-5         3  2016-02-08 07:53:43  2016-02-08 13:53:43   \n",
              "...            ...       ...                  ...                  ...   \n",
              "2845337  A-2845338         2  2019-08-23 18:03:25  2019-08-23 18:32:01   \n",
              "2845338  A-2845339         2  2019-08-23 19:11:30  2019-08-23 19:38:23   \n",
              "2845339  A-2845340         2  2019-08-23 19:00:21  2019-08-23 19:28:49   \n",
              "2845340  A-2845341         2  2019-08-23 19:00:21  2019-08-23 19:29:42   \n",
              "2845341  A-2845342         2  2019-08-23 18:52:06  2019-08-23 19:21:31   \n",
              "\n",
              "         Start_Lat   Start_Lng    End_Lat     End_Lng  Distance(mi)  \\\n",
              "0        40.108910  -83.092860  40.112060  -83.031870         3.230   \n",
              "1        39.865420  -84.062800  39.865010  -84.048730         0.747   \n",
              "2        39.102660  -84.524680  39.102090  -84.523960         0.055   \n",
              "3        41.062130  -81.537840  41.062170  -81.535470         0.123   \n",
              "4        39.172393  -84.492792  39.170476  -84.501798         0.500   \n",
              "...            ...         ...        ...         ...           ...   \n",
              "2845337  34.002480 -117.379360  33.998880 -117.370940         0.543   \n",
              "2845338  32.766960 -117.148060  32.765550 -117.153630         0.338   \n",
              "2845339  33.775450 -117.847790  33.777400 -117.857270         0.561   \n",
              "2845340  33.992460 -118.403020  33.983110 -118.395650         0.772   \n",
              "2845341  34.133930 -117.230920  34.137360 -117.239340         0.537   \n",
              "\n",
              "                                               Description  ...  Roundabout  \\\n",
              "0        Between Sawmill Rd/Exit 20 and OH-315/Olentang...  ...       False   \n",
              "1                       At OH-4/OH-235/Exit 41 - Accident.  ...       False   \n",
              "2                         At I-71/US-50/Exit 1 - Accident.  ...       False   \n",
              "3                          At Dart Ave/Exit 21 - Accident.  ...       False   \n",
              "4                       At Mitchell Ave/Exit 6 - Accident.  ...       False   \n",
              "...                                                    ...  ...         ...   \n",
              "2845337                           At Market St - Accident.  ...       False   \n",
              "2845338    At Camino Del Rio/Mission Center Rd - Accident.  ...       False   \n",
              "2845339  At Glassell St/Grand Ave - Accident. in the ri...  ...       False   \n",
              "2845340     At CA-90/Marina Fwy/Jefferson Blvd - Accident.  ...       False   \n",
              "2845341              At Highland Ave/Arden Ave - Accident.  ...       False   \n",
              "\n",
              "        Station   Stop Traffic_Calming Traffic_Signal Turning_Loop  \\\n",
              "0         False  False           False          False        False   \n",
              "1         False  False           False          False        False   \n",
              "2         False  False           False          False        False   \n",
              "3         False  False           False          False        False   \n",
              "4         False  False           False          False        False   \n",
              "...         ...    ...             ...            ...          ...   \n",
              "2845337   False  False           False          False        False   \n",
              "2845338   False  False           False          False        False   \n",
              "2845339   False  False           False          False        False   \n",
              "2845340   False  False           False          False        False   \n",
              "2845341   False  False           False          False        False   \n",
              "\n",
              "        Sunrise_Sunset Civil_Twilight Nautical_Twilight Astronomical_Twilight  \n",
              "0                Night          Night             Night                 Night  \n",
              "1                Night          Night             Night                 Night  \n",
              "2                Night          Night             Night                   Day  \n",
              "3                Night          Night               Day                   Day  \n",
              "4                  Day            Day               Day                   Day  \n",
              "...                ...            ...               ...                   ...  \n",
              "2845337            Day            Day               Day                   Day  \n",
              "2845338            Day            Day               Day                   Day  \n",
              "2845339            Day            Day               Day                   Day  \n",
              "2845340            Day            Day               Day                   Day  \n",
              "2845341            Day            Day               Day                   Day  \n",
              "\n",
              "[2845342 rows x 47 columns]"
            ]
          },
          "execution_count": 14,
          "metadata": {},
          "output_type": "execute_result"
        }
      ],
      "source": [
        "df"
      ]
    },
    {
      "cell_type": "code",
      "execution_count": null,
      "metadata": {
        "colab": {
          "base_uri": "https://localhost:8080/"
        },
        "id": "dGib1LFuilNV",
        "outputId": "a8f45e74-b9d8-4ea8-ec86-68fc85de291a"
      },
      "outputs": [
        {
          "name": "stdout",
          "output_type": "stream",
          "text": [
            "<class 'pandas.core.frame.DataFrame'>\n",
            "RangeIndex: 2845342 entries, 0 to 2845341\n",
            "Data columns (total 47 columns):\n",
            " #   Column                 Dtype  \n",
            "---  ------                 -----  \n",
            " 0   ID                     object \n",
            " 1   Severity               int64  \n",
            " 2   Start_Time             object \n",
            " 3   End_Time               object \n",
            " 4   Start_Lat              float64\n",
            " 5   Start_Lng              float64\n",
            " 6   End_Lat                float64\n",
            " 7   End_Lng                float64\n",
            " 8   Distance(mi)           float64\n",
            " 9   Description            object \n",
            " 10  Number                 float64\n",
            " 11  Street                 object \n",
            " 12  Side                   object \n",
            " 13  City                   object \n",
            " 14  County                 object \n",
            " 15  State                  object \n",
            " 16  Zipcode                object \n",
            " 17  Country                object \n",
            " 18  Timezone               object \n",
            " 19  Airport_Code           object \n",
            " 20  Weather_Timestamp      object \n",
            " 21  Temperature(F)         float64\n",
            " 22  Wind_Chill(F)          float64\n",
            " 23  Humidity(%)            float64\n",
            " 24  Pressure(in)           float64\n",
            " 25  Visibility(mi)         float64\n",
            " 26  Wind_Direction         object \n",
            " 27  Wind_Speed(mph)        float64\n",
            " 28  Precipitation(in)      float64\n",
            " 29  Weather_Condition      object \n",
            " 30  Amenity                bool   \n",
            " 31  Bump                   bool   \n",
            " 32  Crossing               bool   \n",
            " 33  Give_Way               bool   \n",
            " 34  Junction               bool   \n",
            " 35  No_Exit                bool   \n",
            " 36  Railway                bool   \n",
            " 37  Roundabout             bool   \n",
            " 38  Station                bool   \n",
            " 39  Stop                   bool   \n",
            " 40  Traffic_Calming        bool   \n",
            " 41  Traffic_Signal         bool   \n",
            " 42  Turning_Loop           bool   \n",
            " 43  Sunrise_Sunset         object \n",
            " 44  Civil_Twilight         object \n",
            " 45  Nautical_Twilight      object \n",
            " 46  Astronomical_Twilight  object \n",
            "dtypes: bool(13), float64(13), int64(1), object(20)\n",
            "memory usage: 773.4+ MB\n"
          ]
        }
      ],
      "source": [
        "df.info()"
      ]
    },
    {
      "cell_type": "code",
      "execution_count": null,
      "metadata": {
        "colab": {
          "base_uri": "https://localhost:8080/",
          "height": 364
        },
        "id": "nVA9YNxRjDR4",
        "outputId": "0fa7dab0-34f3-4958-d1fc-7af7e6d7b002"
      },
      "outputs": [
        {
          "data": {
            "text/html": [
              "\n",
              "  <div id=\"df-0a4c0a75-4821-41fe-91bb-f63ce17803a1\">\n",
              "    <div class=\"colab-df-container\">\n",
              "      <div>\n",
              "<style scoped>\n",
              "    .dataframe tbody tr th:only-of-type {\n",
              "        vertical-align: middle;\n",
              "    }\n",
              "\n",
              "    .dataframe tbody tr th {\n",
              "        vertical-align: top;\n",
              "    }\n",
              "\n",
              "    .dataframe thead th {\n",
              "        text-align: right;\n",
              "    }\n",
              "</style>\n",
              "<table border=\"1\" class=\"dataframe\">\n",
              "  <thead>\n",
              "    <tr style=\"text-align: right;\">\n",
              "      <th></th>\n",
              "      <th>Severity</th>\n",
              "      <th>Start_Lat</th>\n",
              "      <th>Start_Lng</th>\n",
              "      <th>End_Lat</th>\n",
              "      <th>End_Lng</th>\n",
              "      <th>Distance(mi)</th>\n",
              "      <th>Number</th>\n",
              "      <th>Temperature(F)</th>\n",
              "      <th>Wind_Chill(F)</th>\n",
              "      <th>Humidity(%)</th>\n",
              "      <th>Pressure(in)</th>\n",
              "      <th>Visibility(mi)</th>\n",
              "      <th>Wind_Speed(mph)</th>\n",
              "      <th>Precipitation(in)</th>\n",
              "    </tr>\n",
              "  </thead>\n",
              "  <tbody>\n",
              "    <tr>\n",
              "      <th>count</th>\n",
              "      <td>2.845342e+06</td>\n",
              "      <td>2.845342e+06</td>\n",
              "      <td>2.845342e+06</td>\n",
              "      <td>2.845342e+06</td>\n",
              "      <td>2.845342e+06</td>\n",
              "      <td>2.845342e+06</td>\n",
              "      <td>1.101431e+06</td>\n",
              "      <td>2.776068e+06</td>\n",
              "      <td>2.375699e+06</td>\n",
              "      <td>2.772250e+06</td>\n",
              "      <td>2.786142e+06</td>\n",
              "      <td>2.774796e+06</td>\n",
              "      <td>2.687398e+06</td>\n",
              "      <td>2.295884e+06</td>\n",
              "    </tr>\n",
              "    <tr>\n",
              "      <th>mean</th>\n",
              "      <td>2.137572e+00</td>\n",
              "      <td>3.624520e+01</td>\n",
              "      <td>-9.711463e+01</td>\n",
              "      <td>3.624532e+01</td>\n",
              "      <td>-9.711439e+01</td>\n",
              "      <td>7.026779e-01</td>\n",
              "      <td>8.089408e+03</td>\n",
              "      <td>6.179356e+01</td>\n",
              "      <td>5.965823e+01</td>\n",
              "      <td>6.436545e+01</td>\n",
              "      <td>2.947234e+01</td>\n",
              "      <td>9.099391e+00</td>\n",
              "      <td>7.395044e+00</td>\n",
              "      <td>7.016940e-03</td>\n",
              "    </tr>\n",
              "    <tr>\n",
              "      <th>std</th>\n",
              "      <td>4.787216e-01</td>\n",
              "      <td>5.363797e+00</td>\n",
              "      <td>1.831782e+01</td>\n",
              "      <td>5.363873e+00</td>\n",
              "      <td>1.831763e+01</td>\n",
              "      <td>1.560361e+00</td>\n",
              "      <td>1.836009e+04</td>\n",
              "      <td>1.862263e+01</td>\n",
              "      <td>2.116097e+01</td>\n",
              "      <td>2.287457e+01</td>\n",
              "      <td>1.045286e+00</td>\n",
              "      <td>2.717546e+00</td>\n",
              "      <td>5.527454e+00</td>\n",
              "      <td>9.348831e-02</td>\n",
              "    </tr>\n",
              "    <tr>\n",
              "      <th>min</th>\n",
              "      <td>1.000000e+00</td>\n",
              "      <td>2.456603e+01</td>\n",
              "      <td>-1.245481e+02</td>\n",
              "      <td>2.456601e+01</td>\n",
              "      <td>-1.245457e+02</td>\n",
              "      <td>0.000000e+00</td>\n",
              "      <td>0.000000e+00</td>\n",
              "      <td>-8.900000e+01</td>\n",
              "      <td>-8.900000e+01</td>\n",
              "      <td>1.000000e+00</td>\n",
              "      <td>0.000000e+00</td>\n",
              "      <td>0.000000e+00</td>\n",
              "      <td>0.000000e+00</td>\n",
              "      <td>0.000000e+00</td>\n",
              "    </tr>\n",
              "    <tr>\n",
              "      <th>25%</th>\n",
              "      <td>2.000000e+00</td>\n",
              "      <td>3.344517e+01</td>\n",
              "      <td>-1.180331e+02</td>\n",
              "      <td>3.344628e+01</td>\n",
              "      <td>-1.180333e+02</td>\n",
              "      <td>5.200000e-02</td>\n",
              "      <td>1.270000e+03</td>\n",
              "      <td>5.000000e+01</td>\n",
              "      <td>4.600000e+01</td>\n",
              "      <td>4.800000e+01</td>\n",
              "      <td>2.931000e+01</td>\n",
              "      <td>1.000000e+01</td>\n",
              "      <td>3.500000e+00</td>\n",
              "      <td>0.000000e+00</td>\n",
              "    </tr>\n",
              "    <tr>\n",
              "      <th>50%</th>\n",
              "      <td>2.000000e+00</td>\n",
              "      <td>3.609861e+01</td>\n",
              "      <td>-9.241808e+01</td>\n",
              "      <td>3.609799e+01</td>\n",
              "      <td>-9.241772e+01</td>\n",
              "      <td>2.440000e-01</td>\n",
              "      <td>4.007000e+03</td>\n",
              "      <td>6.400000e+01</td>\n",
              "      <td>6.300000e+01</td>\n",
              "      <td>6.700000e+01</td>\n",
              "      <td>2.982000e+01</td>\n",
              "      <td>1.000000e+01</td>\n",
              "      <td>7.000000e+00</td>\n",
              "      <td>0.000000e+00</td>\n",
              "    </tr>\n",
              "    <tr>\n",
              "      <th>75%</th>\n",
              "      <td>2.000000e+00</td>\n",
              "      <td>4.016024e+01</td>\n",
              "      <td>-8.037243e+01</td>\n",
              "      <td>4.016105e+01</td>\n",
              "      <td>-8.037338e+01</td>\n",
              "      <td>7.640000e-01</td>\n",
              "      <td>9.567000e+03</td>\n",
              "      <td>7.600000e+01</td>\n",
              "      <td>7.600000e+01</td>\n",
              "      <td>8.300000e+01</td>\n",
              "      <td>3.001000e+01</td>\n",
              "      <td>1.000000e+01</td>\n",
              "      <td>1.000000e+01</td>\n",
              "      <td>0.000000e+00</td>\n",
              "    </tr>\n",
              "    <tr>\n",
              "      <th>max</th>\n",
              "      <td>4.000000e+00</td>\n",
              "      <td>4.900058e+01</td>\n",
              "      <td>-6.711317e+01</td>\n",
              "      <td>4.907500e+01</td>\n",
              "      <td>-6.710924e+01</td>\n",
              "      <td>1.551860e+02</td>\n",
              "      <td>9.999997e+06</td>\n",
              "      <td>1.960000e+02</td>\n",
              "      <td>1.960000e+02</td>\n",
              "      <td>1.000000e+02</td>\n",
              "      <td>5.890000e+01</td>\n",
              "      <td>1.400000e+02</td>\n",
              "      <td>1.087000e+03</td>\n",
              "      <td>2.400000e+01</td>\n",
              "    </tr>\n",
              "  </tbody>\n",
              "</table>\n",
              "</div>\n",
              "      <button class=\"colab-df-convert\" onclick=\"convertToInteractive('df-0a4c0a75-4821-41fe-91bb-f63ce17803a1')\"\n",
              "              title=\"Convert this dataframe to an interactive table.\"\n",
              "              style=\"display:none;\">\n",
              "        \n",
              "  <svg xmlns=\"http://www.w3.org/2000/svg\" height=\"24px\"viewBox=\"0 0 24 24\"\n",
              "       width=\"24px\">\n",
              "    <path d=\"M0 0h24v24H0V0z\" fill=\"none\"/>\n",
              "    <path d=\"M18.56 5.44l.94 2.06.94-2.06 2.06-.94-2.06-.94-.94-2.06-.94 2.06-2.06.94zm-11 1L8.5 8.5l.94-2.06 2.06-.94-2.06-.94L8.5 2.5l-.94 2.06-2.06.94zm10 10l.94 2.06.94-2.06 2.06-.94-2.06-.94-.94-2.06-.94 2.06-2.06.94z\"/><path d=\"M17.41 7.96l-1.37-1.37c-.4-.4-.92-.59-1.43-.59-.52 0-1.04.2-1.43.59L10.3 9.45l-7.72 7.72c-.78.78-.78 2.05 0 2.83L4 21.41c.39.39.9.59 1.41.59.51 0 1.02-.2 1.41-.59l7.78-7.78 2.81-2.81c.8-.78.8-2.07 0-2.86zM5.41 20L4 18.59l7.72-7.72 1.47 1.35L5.41 20z\"/>\n",
              "  </svg>\n",
              "      </button>\n",
              "      \n",
              "  <style>\n",
              "    .colab-df-container {\n",
              "      display:flex;\n",
              "      flex-wrap:wrap;\n",
              "      gap: 12px;\n",
              "    }\n",
              "\n",
              "    .colab-df-convert {\n",
              "      background-color: #E8F0FE;\n",
              "      border: none;\n",
              "      border-radius: 50%;\n",
              "      cursor: pointer;\n",
              "      display: none;\n",
              "      fill: #1967D2;\n",
              "      height: 32px;\n",
              "      padding: 0 0 0 0;\n",
              "      width: 32px;\n",
              "    }\n",
              "\n",
              "    .colab-df-convert:hover {\n",
              "      background-color: #E2EBFA;\n",
              "      box-shadow: 0px 1px 2px rgba(60, 64, 67, 0.3), 0px 1px 3px 1px rgba(60, 64, 67, 0.15);\n",
              "      fill: #174EA6;\n",
              "    }\n",
              "\n",
              "    [theme=dark] .colab-df-convert {\n",
              "      background-color: #3B4455;\n",
              "      fill: #D2E3FC;\n",
              "    }\n",
              "\n",
              "    [theme=dark] .colab-df-convert:hover {\n",
              "      background-color: #434B5C;\n",
              "      box-shadow: 0px 1px 3px 1px rgba(0, 0, 0, 0.15);\n",
              "      filter: drop-shadow(0px 1px 2px rgba(0, 0, 0, 0.3));\n",
              "      fill: #FFFFFF;\n",
              "    }\n",
              "  </style>\n",
              "\n",
              "      <script>\n",
              "        const buttonEl =\n",
              "          document.querySelector('#df-0a4c0a75-4821-41fe-91bb-f63ce17803a1 button.colab-df-convert');\n",
              "        buttonEl.style.display =\n",
              "          google.colab.kernel.accessAllowed ? 'block' : 'none';\n",
              "\n",
              "        async function convertToInteractive(key) {\n",
              "          const element = document.querySelector('#df-0a4c0a75-4821-41fe-91bb-f63ce17803a1');\n",
              "          const dataTable =\n",
              "            await google.colab.kernel.invokeFunction('convertToInteractive',\n",
              "                                                     [key], {});\n",
              "          if (!dataTable) return;\n",
              "\n",
              "          const docLinkHtml = 'Like what you see? Visit the ' +\n",
              "            '<a target=\"_blank\" href=https://colab.research.google.com/notebooks/data_table.ipynb>data table notebook</a>'\n",
              "            + ' to learn more about interactive tables.';\n",
              "          element.innerHTML = '';\n",
              "          dataTable['output_type'] = 'display_data';\n",
              "          await google.colab.output.renderOutput(dataTable, element);\n",
              "          const docLink = document.createElement('div');\n",
              "          docLink.innerHTML = docLinkHtml;\n",
              "          element.appendChild(docLink);\n",
              "        }\n",
              "      </script>\n",
              "    </div>\n",
              "  </div>\n",
              "  "
            ],
            "text/plain": [
              "           Severity     Start_Lat     Start_Lng       End_Lat       End_Lng  \\\n",
              "count  2.845342e+06  2.845342e+06  2.845342e+06  2.845342e+06  2.845342e+06   \n",
              "mean   2.137572e+00  3.624520e+01 -9.711463e+01  3.624532e+01 -9.711439e+01   \n",
              "std    4.787216e-01  5.363797e+00  1.831782e+01  5.363873e+00  1.831763e+01   \n",
              "min    1.000000e+00  2.456603e+01 -1.245481e+02  2.456601e+01 -1.245457e+02   \n",
              "25%    2.000000e+00  3.344517e+01 -1.180331e+02  3.344628e+01 -1.180333e+02   \n",
              "50%    2.000000e+00  3.609861e+01 -9.241808e+01  3.609799e+01 -9.241772e+01   \n",
              "75%    2.000000e+00  4.016024e+01 -8.037243e+01  4.016105e+01 -8.037338e+01   \n",
              "max    4.000000e+00  4.900058e+01 -6.711317e+01  4.907500e+01 -6.710924e+01   \n",
              "\n",
              "       Distance(mi)        Number  Temperature(F)  Wind_Chill(F)  \\\n",
              "count  2.845342e+06  1.101431e+06    2.776068e+06   2.375699e+06   \n",
              "mean   7.026779e-01  8.089408e+03    6.179356e+01   5.965823e+01   \n",
              "std    1.560361e+00  1.836009e+04    1.862263e+01   2.116097e+01   \n",
              "min    0.000000e+00  0.000000e+00   -8.900000e+01  -8.900000e+01   \n",
              "25%    5.200000e-02  1.270000e+03    5.000000e+01   4.600000e+01   \n",
              "50%    2.440000e-01  4.007000e+03    6.400000e+01   6.300000e+01   \n",
              "75%    7.640000e-01  9.567000e+03    7.600000e+01   7.600000e+01   \n",
              "max    1.551860e+02  9.999997e+06    1.960000e+02   1.960000e+02   \n",
              "\n",
              "        Humidity(%)  Pressure(in)  Visibility(mi)  Wind_Speed(mph)  \\\n",
              "count  2.772250e+06  2.786142e+06    2.774796e+06     2.687398e+06   \n",
              "mean   6.436545e+01  2.947234e+01    9.099391e+00     7.395044e+00   \n",
              "std    2.287457e+01  1.045286e+00    2.717546e+00     5.527454e+00   \n",
              "min    1.000000e+00  0.000000e+00    0.000000e+00     0.000000e+00   \n",
              "25%    4.800000e+01  2.931000e+01    1.000000e+01     3.500000e+00   \n",
              "50%    6.700000e+01  2.982000e+01    1.000000e+01     7.000000e+00   \n",
              "75%    8.300000e+01  3.001000e+01    1.000000e+01     1.000000e+01   \n",
              "max    1.000000e+02  5.890000e+01    1.400000e+02     1.087000e+03   \n",
              "\n",
              "       Precipitation(in)  \n",
              "count       2.295884e+06  \n",
              "mean        7.016940e-03  \n",
              "std         9.348831e-02  \n",
              "min         0.000000e+00  \n",
              "25%         0.000000e+00  \n",
              "50%         0.000000e+00  \n",
              "75%         0.000000e+00  \n",
              "max         2.400000e+01  "
            ]
          },
          "execution_count": 19,
          "metadata": {},
          "output_type": "execute_result"
        }
      ],
      "source": [
        "df.describe()"
      ]
    },
    {
      "cell_type": "code",
      "execution_count": null,
      "metadata": {
        "colab": {
          "base_uri": "https://localhost:8080/"
        },
        "id": "jJrbHy3DjDJh",
        "outputId": "c601df6e-072a-4e6a-99fc-a44252d0e05b"
      },
      "outputs": [
        {
          "data": {
            "text/plain": [
              "14"
            ]
          },
          "execution_count": 20,
          "metadata": {},
          "output_type": "execute_result"
        }
      ],
      "source": [
        "numerics = ['int16', 'int32', 'int64', 'float16', 'float32', 'float64']\n",
        "numeric_df = df.select_dtypes(include=numerics)\n",
        "len(numeric_df.columns)"
      ]
    },
    {
      "cell_type": "markdown",
      "metadata": {
        "id": "1AAMUCRU0rsw"
      },
      "source": [
        "Percentage of missing values per column"
      ]
    },
    {
      "cell_type": "code",
      "execution_count": null,
      "metadata": {
        "colab": {
          "base_uri": "https://localhost:8080/"
        },
        "id": "CrzgSTyMjDHf",
        "outputId": "b31d1137-b277-4e96-c214-991c36621a53"
      },
      "outputs": [
        {
          "data": {
            "text/plain": [
              "Number                   6.129003e-01\n",
              "Precipitation(in)        1.931079e-01\n",
              "Wind_Chill(F)            1.650568e-01\n",
              "Wind_Speed(mph)          5.550967e-02\n",
              "Wind_Direction           2.592834e-02\n",
              "Humidity(%)              2.568830e-02\n",
              "Weather_Condition        2.482514e-02\n",
              "Visibility(mi)           2.479350e-02\n",
              "Temperature(F)           2.434646e-02\n",
              "Pressure(in)             2.080593e-02\n",
              "Weather_Timestamp        1.783125e-02\n",
              "Airport_Code             3.356011e-03\n",
              "Timezone                 1.285961e-03\n",
              "Nautical_Twilight        1.007612e-03\n",
              "Civil_Twilight           1.007612e-03\n",
              "Sunrise_Sunset           1.007612e-03\n",
              "Astronomical_Twilight    1.007612e-03\n",
              "Zipcode                  4.635647e-04\n",
              "City                     4.814887e-05\n",
              "Street                   7.029032e-07\n",
              "Country                  0.000000e+00\n",
              "Junction                 0.000000e+00\n",
              "Start_Time               0.000000e+00\n",
              "End_Time                 0.000000e+00\n",
              "Start_Lat                0.000000e+00\n",
              "Turning_Loop             0.000000e+00\n",
              "Traffic_Signal           0.000000e+00\n",
              "Traffic_Calming          0.000000e+00\n",
              "Stop                     0.000000e+00\n",
              "Station                  0.000000e+00\n",
              "Roundabout               0.000000e+00\n",
              "Railway                  0.000000e+00\n",
              "No_Exit                  0.000000e+00\n",
              "Crossing                 0.000000e+00\n",
              "Give_Way                 0.000000e+00\n",
              "Bump                     0.000000e+00\n",
              "Amenity                  0.000000e+00\n",
              "Start_Lng                0.000000e+00\n",
              "End_Lat                  0.000000e+00\n",
              "End_Lng                  0.000000e+00\n",
              "Distance(mi)             0.000000e+00\n",
              "Description              0.000000e+00\n",
              "Severity                 0.000000e+00\n",
              "Side                     0.000000e+00\n",
              "County                   0.000000e+00\n",
              "State                    0.000000e+00\n",
              "ID                       0.000000e+00\n",
              "dtype: float64"
            ]
          },
          "execution_count": 28,
          "metadata": {},
          "output_type": "execute_result"
        }
      ],
      "source": [
        "missing_percentages = df.isna().sum().sort_values(ascending=False) / len(df)\n",
        "missing_percentages"
      ]
    },
    {
      "cell_type": "code",
      "execution_count": null,
      "metadata": {
        "colab": {
          "base_uri": "https://localhost:8080/"
        },
        "id": "iW24Zt7011j3",
        "outputId": "ca245365-b620-4b39-945d-f4b54fd28164"
      },
      "outputs": [
        {
          "data": {
            "text/plain": [
              "Number                   6.129003e-01\n",
              "Precipitation(in)        1.931079e-01\n",
              "Wind_Chill(F)            1.650568e-01\n",
              "Wind_Speed(mph)          5.550967e-02\n",
              "Wind_Direction           2.592834e-02\n",
              "Humidity(%)              2.568830e-02\n",
              "Weather_Condition        2.482514e-02\n",
              "Visibility(mi)           2.479350e-02\n",
              "Temperature(F)           2.434646e-02\n",
              "Pressure(in)             2.080593e-02\n",
              "Weather_Timestamp        1.783125e-02\n",
              "Airport_Code             3.356011e-03\n",
              "Timezone                 1.285961e-03\n",
              "Nautical_Twilight        1.007612e-03\n",
              "Civil_Twilight           1.007612e-03\n",
              "Sunrise_Sunset           1.007612e-03\n",
              "Astronomical_Twilight    1.007612e-03\n",
              "Zipcode                  4.635647e-04\n",
              "City                     4.814887e-05\n",
              "Street                   7.029032e-07\n",
              "dtype: float64"
            ]
          },
          "execution_count": 33,
          "metadata": {},
          "output_type": "execute_result"
        }
      ],
      "source": [
        "missing_percentages[missing_percentages != 0]"
      ]
    },
    {
      "cell_type": "code",
      "execution_count": null,
      "metadata": {
        "colab": {
          "base_uri": "https://localhost:8080/"
        },
        "id": "mFOUdu381agS",
        "outputId": "b1231c9c-6a08-494e-c0dd-4dd72cf11a61"
      },
      "outputs": [
        {
          "data": {
            "text/plain": [
              "pandas.core.series.Series"
            ]
          },
          "execution_count": 30,
          "metadata": {},
          "output_type": "execute_result"
        }
      ],
      "source": [
        "type(missing_percentages)"
      ]
    },
    {
      "cell_type": "code",
      "execution_count": null,
      "metadata": {
        "colab": {
          "base_uri": "https://localhost:8080/",
          "height": 283
        },
        "id": "ZWbwLnu5jDFI",
        "outputId": "107e5654-3fd5-4b28-d56e-0b567a2fc1ce"
      },
      "outputs": [
        {
          "data": {
            "text/plain": [
              "<matplotlib.axes._subplots.AxesSubplot at 0x7f30c1207450>"
            ]
          },
          "execution_count": 34,
          "metadata": {},
          "output_type": "execute_result"
        },
        {
          "data": {
            "image/png": "[encoded data removed]",
            "text/plain": [
              "<Figure size 432x288 with 1 Axes>"
            ]
          },
          "metadata": {
            "needs_background": "light"
          },
          "output_type": "display_data"
        }
      ],
      "source": [
        "missing_percentages[missing_percentages != 0].plot(kind='barh')"
      ]
    },
    {
      "cell_type": "markdown",
      "metadata": {
        "id": "j4qyxq5Q2Se2"
      },
      "source": [
        "Columns we will not use are being removed."
      ]
    },
    {
      "cell_type": "markdown",
      "metadata": {
        "id": "T_jpylYKdLge"
      },
      "source": [
        "## Exploratory Analysis and Visualization\n",
        "Analyzed Columns:\n",
        "1. City\n",
        "2. Start Time\n",
        "3. Start Latitude, Start Longitude\n"
      ]
    },
    {
      "cell_type": "code",
      "execution_count": null,
      "metadata": {
        "colab": {
          "base_uri": "https://localhost:8080/"
        },
        "id": "scABvXU2cly_",
        "outputId": "3dcb04f9-e3f5-44ec-9769-59b5ae26ca97"
      },
      "outputs": [
        {
          "data": {
            "text/plain": [
              "Index(['ID', 'Severity', 'Start_Time', 'End_Time', 'Start_Lat', 'Start_Lng',\n",
              "       'End_Lat', 'End_Lng', 'Distance(mi)', 'Description', 'Number', 'Street',\n",
              "       'Side', 'City', 'County', 'State', 'Zipcode', 'Country', 'Timezone',\n",
              "       'Airport_Code', 'Weather_Timestamp', 'Temperature(F)', 'Wind_Chill(F)',\n",
              "       'Humidity(%)', 'Pressure(in)', 'Visibility(mi)', 'Wind_Direction',\n",
              "       'Wind_Speed(mph)', 'Precipitation(in)', 'Weather_Condition', 'Amenity',\n",
              "       'Bump', 'Crossing', 'Give_Way', 'Junction', 'No_Exit', 'Railway',\n",
              "       'Roundabout', 'Station', 'Stop', 'Traffic_Calming', 'Traffic_Signal',\n",
              "       'Turning_Loop', 'Sunrise_Sunset', 'Civil_Twilight', 'Nautical_Twilight',\n",
              "       'Astronomical_Twilight'],\n",
              "      dtype='object')"
            ]
          },
          "execution_count": 144,
          "metadata": {},
          "output_type": "execute_result"
        }
      ],
      "source": [
        "df.columns"
      ]
    },
    {
      "cell_type": "markdown",
      "metadata": {
        "id": "dCVEMMC89rGg"
      },
      "source": [
        "###Cities"
      ]
    },
    {
      "cell_type": "code",
      "execution_count": null,
      "metadata": {
        "colab": {
          "base_uri": "https://localhost:8080/"
        },
        "id": "dSZEbIdqcluk",
        "outputId": "3ab3d7cb-4b79-4c8a-f767-2930e7b466b1"
      },
      "outputs": [
        {
          "data": {
            "text/plain": [
              "0               Dublin\n",
              "1               Dayton\n",
              "2           Cincinnati\n",
              "3                Akron\n",
              "4           Cincinnati\n",
              "              ...     \n",
              "2845337      Riverside\n",
              "2845338      San Diego\n",
              "2845339         Orange\n",
              "2845340    Culver City\n",
              "2845341       Highland\n",
              "Name: City, Length: 2845342, dtype: object"
            ]
          },
          "execution_count": 145,
          "metadata": {},
          "output_type": "execute_result"
        }
      ],
      "source": [
        "df.City"
      ]
    },
    {
      "cell_type": "code",
      "execution_count": null,
      "metadata": {
        "colab": {
          "base_uri": "https://localhost:8080/"
        },
        "id": "JLxaDkbycloi",
        "outputId": "d2a6203a-a74e-447d-8400-5b0423fd33f6"
      },
      "outputs": [
        {
          "data": {
            "text/plain": [
              "11682"
            ]
          },
          "execution_count": 146,
          "metadata": {},
          "output_type": "execute_result"
        }
      ],
      "source": [
        "cities = df.City.unique()\n",
        "len(cities)"
      ]
    },
    {
      "cell_type": "code",
      "execution_count": null,
      "metadata": {
        "colab": {
          "base_uri": "https://localhost:8080/"
        },
        "id": "tA9chPkDczBy",
        "outputId": "8c079901-d8b9-4d5d-a10d-b271800f28da"
      },
      "outputs": [
        {
          "data": {
            "text/plain": [
              "Miami                           106966\n",
              "Los Angeles                      68956\n",
              "Orlando                          54691\n",
              "Dallas                           41979\n",
              "Houston                          39448\n",
              "                                 ...  \n",
              "Ridgedale                            1\n",
              "Sekiu                                1\n",
              "Wooldridge                           1\n",
              "Bullock                              1\n",
              "American Fork-Pleasant Grove         1\n",
              "Name: City, Length: 11681, dtype: int64"
            ]
          },
          "execution_count": 147,
          "metadata": {},
          "output_type": "execute_result"
        }
      ],
      "source": [
        "cities_by_accident = df.City.value_counts()\n",
        "cities_by_accident "
      ]
    },
    {
      "cell_type": "code",
      "execution_count": null,
      "metadata": {
        "colab": {
          "base_uri": "https://localhost:8080/"
        },
        "id": "3jBvwHez4Rm5",
        "outputId": "25532398-8957-4091-ac2e-f9f44350770e"
      },
      "outputs": [
        {
          "data": {
            "text/plain": [
              "Miami           106966\n",
              "Los Angeles      68956\n",
              "Orlando          54691\n",
              "Dallas           41979\n",
              "Houston          39448\n",
              "Charlotte        33152\n",
              "Sacramento       32559\n",
              "San Diego        26627\n",
              "Raleigh          22840\n",
              "Minneapolis      22768\n",
              "Portland         20944\n",
              "Nashville        20267\n",
              "Austin           18301\n",
              "Baton Rouge      18182\n",
              "Phoenix          17143\n",
              "Saint Paul       16869\n",
              "New Orleans      16251\n",
              "Atlanta          15622\n",
              "Jacksonville     14967\n",
              "Richmond         14349\n",
              "Name: City, dtype: int64"
            ]
          },
          "execution_count": 148,
          "metadata": {},
          "output_type": "execute_result"
        }
      ],
      "source": [
        "cities_by_accident[:20]"
      ]
    },
    {
      "cell_type": "code",
      "execution_count": null,
      "metadata": {
        "colab": {
          "base_uri": "https://localhost:8080/"
        },
        "id": "T_JjJHy847nD",
        "outputId": "4bd2f47e-8e9f-4352-ff7f-9338b58e5637"
      },
      "outputs": [
        {
          "data": {
            "text/plain": [
              "False"
            ]
          },
          "execution_count": 149,
          "metadata": {},
          "output_type": "execute_result"
        }
      ],
      "source": [
        "'NY' in df.State"
      ]
    },
    {
      "cell_type": "code",
      "execution_count": null,
      "metadata": {
        "colab": {
          "base_uri": "https://localhost:8080/",
          "height": 283
        },
        "id": "_uRzGmQW5ac_",
        "outputId": "1f2fa923-3330-4d92-f594-0dc1785c3efb"
      },
      "outputs": [
        {
          "data": {
            "text/plain": [
              "<matplotlib.axes._subplots.AxesSubplot at 0x7f3096341990>"
            ]
          },
          "execution_count": 150,
          "metadata": {},
          "output_type": "execute_result"
        },
        {
          "data": {
            "image/png": "[encoded data removed]",
            "text/plain": [
              "<Figure size 432x288 with 1 Axes>"
            ]
          },
          "metadata": {},
          "output_type": "display_data"
        }
      ],
      "source": [
        "cities_by_accident[:20].plot(kind='barh')"
      ]
    },
    {
      "cell_type": "code",
      "execution_count": null,
      "metadata": {
        "id": "ZkqiFDlq5soJ"
      },
      "outputs": [],
      "source": [
        "import seaborn as sns\n",
        "sns.set_style(\"darkgrid\")"
      ]
    },
    {
      "cell_type": "code",
      "execution_count": null,
      "metadata": {
        "id": "dsml-fCx5say"
      },
      "outputs": [],
      "source": [
        "high_accident_cities = cities_by_accident[cities_by_accident >= 1000]\n",
        "low_accident_cities = cities_by_accident[cities_by_accident < 1000]"
      ]
    },
    {
      "cell_type": "code",
      "execution_count": null,
      "metadata": {
        "colab": {
          "base_uri": "https://localhost:8080/"
        },
        "id": "15TmS0r47NAt",
        "outputId": "668e7370-0b9e-425f-a94e-83dee60968f3"
      },
      "outputs": [
        {
          "data": {
            "text/plain": [
              "0.04245848313644924"
            ]
          },
          "execution_count": 153,
          "metadata": {},
          "output_type": "execute_result"
        }
      ],
      "source": [
        "len(high_accident_cities)/len(cities)"
      ]
    },
    {
      "cell_type": "code",
      "execution_count": null,
      "metadata": {
        "colab": {
          "base_uri": "https://localhost:8080/",
          "height": 301
        },
        "id": "P77ySRI27mT5",
        "outputId": "77333bd0-d3de-45a0-adc4-75e98776cbd6"
      },
      "outputs": [
        {
          "data": {
            "text/plain": [
              "<matplotlib.axes._subplots.AxesSubplot at 0x7f3066ee3a50>"
            ]
          },
          "execution_count": 154,
          "metadata": {},
          "output_type": "execute_result"
        },
        {
          "data": {
            "image/png": "[encoded data removed]",
            "text/plain": [
              "<Figure size 432x288 with 1 Axes>"
            ]
          },
          "metadata": {},
          "output_type": "display_data"
        }
      ],
      "source": [
        "sns.histplot(cities_by_accident,log_scale = True)"
      ]
    },
    {
      "cell_type": "code",
      "execution_count": null,
      "metadata": {
        "colab": {
          "base_uri": "https://localhost:8080/"
        },
        "id": "CEo_gHaO7mRv",
        "outputId": "f6f04c80-132c-4769-daf8-1e5d7946dcce"
      },
      "outputs": [
        {
          "data": {
            "text/plain": [
              "Carney                          1\n",
              "Waverly Hall                    1\n",
              "Center Sandwich                 1\n",
              "Glen Flora                      1\n",
              "Sulphur Springs                 1\n",
              "                               ..\n",
              "Ridgedale                       1\n",
              "Sekiu                           1\n",
              "Wooldridge                      1\n",
              "Bullock                         1\n",
              "American Fork-Pleasant Grove    1\n",
              "Name: City, Length: 1110, dtype: int64"
            ]
          },
          "execution_count": 155,
          "metadata": {},
          "output_type": "execute_result"
        }
      ],
      "source": [
        "cities_by_accident[cities_by_accident == 1]"
      ]
    },
    {
      "cell_type": "markdown",
      "metadata": {
        "id": "4PRWVTHQ9lQv"
      },
      "source": [
        "###Start Time"
      ]
    },
    {
      "cell_type": "code",
      "execution_count": null,
      "metadata": {
        "id": "_gfRCuII8jCM"
      },
      "outputs": [],
      "source": [
        "df.Start_Time = pd.to_datetime(df.Start_Time)"
      ]
    },
    {
      "cell_type": "code",
      "execution_count": null,
      "metadata": {
        "colab": {
          "base_uri": "https://localhost:8080/",
          "height": 354
        },
        "id": "7iBqDswK8jAJ",
        "outputId": "8e485cdd-6c62-4e51-ef30-daeb46a3e320"
      },
      "outputs": [
        {
          "name": "stderr",
          "output_type": "stream",
          "text": [
            "/usr/local/lib/python3.7/dist-packages/seaborn/distributions.py:2619: FutureWarning: `distplot` is a deprecated function and will be removed in a future version. Please adapt your code to use either `displot` (a figure-level function with similar flexibility) or `histplot` (an axes-level function for histograms).\n",
            "  warnings.warn(msg, FutureWarning)\n"
          ]
        },
        {
          "data": {
            "text/plain": [
              "<matplotlib.axes._subplots.AxesSubplot at 0x7f310f03e190>"
            ]
          },
          "execution_count": 157,
          "metadata": {},
          "output_type": "execute_result"
        },
        {
          "data": {
            "image/png": "[encoded data removed]",
            "text/plain": [
              "<Figure size 432x288 with 1 Axes>"
            ]
          },
          "metadata": {},
          "output_type": "display_data"
        }
      ],
      "source": [
        "sns.distplot(df.Start_Time.dt.hour, bins=24, kde=False, norm_hist=True)"
      ]
    },
    {
      "cell_type": "markdown",
      "metadata": {
        "id": "VnNYna9HCI6b"
      },
      "source": [
        "- A high percentage of accidents occur between 6 am and 10 am (probably poeple in a hurry to get to work)\n",
        "- And again the next highest percentage of accidents is between 3 pm to 6 pm (people leaving work to go back home)"
      ]
    },
    {
      "cell_type": "code",
      "execution_count": null,
      "metadata": {
        "colab": {
          "base_uri": "https://localhost:8080/",
          "height": 298
        },
        "id": "i1AZq5Tb__gG",
        "outputId": "eb30d395-cf0f-48fe-b5e0-42c3a14446b4"
      },
      "outputs": [
        {
          "data": {
            "text/plain": [
              "<matplotlib.axes._subplots.AxesSubplot at 0x7f3066fcd290>"
            ]
          },
          "execution_count": 158,
          "metadata": {},
          "output_type": "execute_result"
        },
        {
          "data": {
            "image/png": "[encoded data removed]",
            "text/plain": [
              "<Figure size 432x288 with 1 Axes>"
            ]
          },
          "metadata": {},
          "output_type": "display_data"
        }
      ],
      "source": [
        "sns.distplot(df.Start_Time.dt.dayofweek, bins=7, kde=False, norm_hist=True)"
      ]
    },
    {
      "cell_type": "markdown",
      "metadata": {
        "id": "7emc5169DBW-"
      },
      "source": [
        "Is the distribution of accidents by hour the same on weekends as on week days?"
      ]
    },
    {
      "cell_type": "code",
      "execution_count": null,
      "metadata": {
        "colab": {
          "base_uri": "https://localhost:8080/",
          "height": 298
        },
        "id": "xQJa11-q__ds",
        "outputId": "2ed534bc-ad02-433b-9f00-90cdb7f6dbf3"
      },
      "outputs": [
        {
          "data": {
            "text/plain": [
              "<matplotlib.axes._subplots.AxesSubplot at 0x7f3066c36250>"
            ]
          },
          "execution_count": 159,
          "metadata": {},
          "output_type": "execute_result"
        },
        {
          "data": {
            "image/png": "[encoded data removed]",
            "text/plain": [
              "<Figure size 432x288 with 1 Axes>"
            ]
          },
          "metadata": {},
          "output_type": "display_data"
        }
      ],
      "source": [
        "sundays_start_time = df.Start_Time[df.Start_Time.dt.dayofweek == 6]\n",
        "sns.distplot(sundays_start_time.dt.hour, bins=24, kde=False, norm_hist=True)"
      ]
    },
    {
      "cell_type": "markdown",
      "metadata": {
        "id": "2dEDN3iID28p"
      },
      "source": [
        "It appears that most accidents occur during afternoons on Sundays. The peak is between 10 am and 3 pm.\n",
        "\n"
      ]
    },
    {
      "cell_type": "code",
      "execution_count": null,
      "metadata": {
        "colab": {
          "base_uri": "https://localhost:8080/",
          "height": 298
        },
        "id": "mJNOKiRs8i9r",
        "outputId": "f3ab8ac1-1a8b-4822-9f57-bc1cbdb22bb9"
      },
      "outputs": [
        {
          "data": {
            "text/plain": [
              "<matplotlib.axes._subplots.AxesSubplot at 0x7f3066c25250>"
            ]
          },
          "execution_count": 160,
          "metadata": {},
          "output_type": "execute_result"
        },
        {
          "data": {
            "image/png": "[encoded data removed]",
            "text/plain": [
              "<Figure size 432x288 with 1 Axes>"
            ]
          },
          "metadata": {},
          "output_type": "display_data"
        }
      ],
      "source": [
        "mondays_start_time = df.Start_Time[df.Start_Time.dt.dayofweek == 0]\n",
        "sns.distplot(mondays_start_time.dt.hour, bins=24, kde=False, norm_hist=True)"
      ]
    },
    {
      "cell_type": "code",
      "execution_count": null,
      "metadata": {
        "colab": {
          "base_uri": "https://localhost:8080/",
          "height": 298
        },
        "id": "yk-WJIds8i7D",
        "outputId": "4189b918-56b5-4f38-c657-c5dad86f6a44"
      },
      "outputs": [
        {
          "data": {
            "text/plain": [
              "<matplotlib.axes._subplots.AxesSubplot at 0x7f3066a703d0>"
            ]
          },
          "execution_count": 161,
          "metadata": {},
          "output_type": "execute_result"
        },
        {
          "data": {
            "image/png": "[encoded data removed]",
            "text/plain": [
              "<Figure size 432x288 with 1 Axes>"
            ]
          },
          "metadata": {},
          "output_type": "display_data"
        }
      ],
      "source": [
        "df_2019 = df[df.Start_Time.dt.year == 2019]\n",
        "sns.distplot(df_2019.Start_Time.dt.month, bins=12, kde=False, norm_hist=True)"
      ]
    },
    {
      "cell_type": "markdown",
      "metadata": {
        "id": "2DYS5YKmEqmy"
      },
      "source": [
        "It seems that most accidents occur near the end of the year. But the data is between February 2016 to Dec 2021, so it is possible that some data is missing. Accidents seem to the highest during November/December.\n",
        "\n",
        "Can you explain the month-wise trend of accidents?\n",
        "- A significant amount of data is missing for 2016 and possibly 2017.\n"
      ]
    },
    {
      "cell_type": "markdown",
      "metadata": {
        "id": "FYgtkjSWMSxh"
      },
      "source": [
        "### Start Latitude & Longitude"
      ]
    },
    {
      "cell_type": "code",
      "execution_count": null,
      "metadata": {
        "colab": {
          "base_uri": "https://localhost:8080/"
        },
        "id": "nSmTHXf4Kj0v",
        "outputId": "eab0c22d-188e-4dc1-f97f-2a84c392bab4"
      },
      "outputs": [
        {
          "data": {
            "text/plain": [
              "0          40.108910\n",
              "1          39.865420\n",
              "2          39.102660\n",
              "3          41.062130\n",
              "4          39.172393\n",
              "             ...    \n",
              "2845337    34.002480\n",
              "2845338    32.766960\n",
              "2845339    33.775450\n",
              "2845340    33.992460\n",
              "2845341    34.133930\n",
              "Name: Start_Lat, Length: 2845342, dtype: float64"
            ]
          },
          "execution_count": 111,
          "metadata": {},
          "output_type": "execute_result"
        }
      ],
      "source": [
        "df.Start_Lat"
      ]
    },
    {
      "cell_type": "code",
      "execution_count": null,
      "metadata": {
        "colab": {
          "base_uri": "https://localhost:8080/"
        },
        "id": "qWP8FFHsKjy7",
        "outputId": "9db7bd94-6db9-429b-c314-88605dafbd50"
      },
      "outputs": [
        {
          "data": {
            "text/plain": [
              "0          -83.092860\n",
              "1          -84.062800\n",
              "2          -84.524680\n",
              "3          -81.537840\n",
              "4          -84.492792\n",
              "              ...    \n",
              "2845337   -117.379360\n",
              "2845338   -117.148060\n",
              "2845339   -117.847790\n",
              "2845340   -118.403020\n",
              "2845341   -117.230920\n",
              "Name: Start_Lng, Length: 2845342, dtype: float64"
            ]
          },
          "execution_count": 113,
          "metadata": {},
          "output_type": "execute_result"
        }
      ],
      "source": [
        "df.Start_Lng"
      ]
    },
    {
      "cell_type": "code",
      "execution_count": null,
      "metadata": {
        "id": "2xh9JsbMKjwp"
      },
      "outputs": [],
      "source": [
        "sample_df = df.sample(int(0.1 * len(df)))"
      ]
    },
    {
      "cell_type": "code",
      "execution_count": null,
      "metadata": {
        "colab": {
          "base_uri": "https://localhost:8080/",
          "height": 301
        },
        "id": "4_nqChpMMvTz",
        "outputId": "5e34a866-e7c8-4d37-b802-ef11f8dd46aa"
      },
      "outputs": [
        {
          "data": {
            "text/plain": [
              "<matplotlib.axes._subplots.AxesSubplot at 0x7f30851e90d0>"
            ]
          },
          "execution_count": 119,
          "metadata": {},
          "output_type": "execute_result"
        },
        {
          "data": {
            "image/png": "[encoded data removed]",
            "text/plain": [
              "<Figure size 432x288 with 1 Axes>"
            ]
          },
          "metadata": {},
          "output_type": "display_data"
        }
      ],
      "source": [
        "sns.scatterplot(x=sample_df.Start_Lng, y=sample_df.Start_Lat, size=0.001)"
      ]
    },
    {
      "cell_type": "code",
      "execution_count": null,
      "metadata": {
        "id": "7o_PgcK2MvRB"
      },
      "outputs": [],
      "source": [
        "import folium\n"
      ]
    },
    {
      "cell_type": "code",
      "execution_count": null,
      "metadata": {
        "colab": {
          "base_uri": "https://localhost:8080/"
        },
        "id": "UNZjxJY-OrgV",
        "outputId": "903ee9e3-be38-4282-95bd-b8592d741671"
      },
      "outputs": [
        {
          "data": {
            "text/plain": [
              "(40.10891, -83.09286)"
            ]
          },
          "execution_count": 127,
          "metadata": {},
          "output_type": "execute_result"
        }
      ],
      "source": [
        "lat, lon, = df.Start_Lat[0], df.Start_Lng[0]\n",
        "lat, lon"
      ]
    },
    {
      "cell_type": "code",
      "execution_count": null,
      "metadata": {
        "colab": {
          "base_uri": "https://localhost:8080/"
        },
        "id": "wYO7U9ZoSRbF",
        "outputId": "1e65b2ad-f2df-456a-9e2e-b24922936961"
      },
      "outputs": [
        {
          "name": "stdout",
          "output_type": "stream",
          "text": [
            "2106308    35.182840\n",
            "24253      32.918737\n",
            "1091823    27.476628\n",
            "485042     37.604410\n",
            "2653442    37.140169\n",
            "             ...    \n",
            "351722     37.502206\n",
            "2018200    38.663995\n",
            "962490     25.891749\n",
            "1908799    40.588678\n",
            "359669     35.606828\n",
            "Name: Start_Lat, Length: 100, dtype: float64\n",
            "2106308    -89.871280\n",
            "24253      -96.897311\n",
            "1091823    -82.501618\n",
            "485042     -77.537722\n",
            "2653442    -83.712242\n",
            "              ...    \n",
            "351722     -77.281554\n",
            "2018200   -121.224858\n",
            "962490     -80.186577\n",
            "1908799    -80.099183\n",
            "359669     -83.008950\n",
            "Name: Start_Lng, Length: 100, dtype: float64\n"
          ]
        }
      ],
      "source": [
        "for x in df[['Start_Lat', 'Start_Lng']].sample(100).iteritems():\n",
        "    print(x[1])"
      ]
    },
    {
      "cell_type": "code",
      "execution_count": null,
      "metadata": {
        "colab": {
          "base_uri": "https://localhost:8080/"
        },
        "id": "9a9Bw0j9QyvB",
        "outputId": "1087ed49-af96-43b9-d33a-e64e8cc775fb"
      },
      "outputs": [
        {
          "data": {
            "text/plain": [
              "<zip at 0x7f306708e050>"
            ]
          },
          "execution_count": 139,
          "metadata": {},
          "output_type": "execute_result"
        }
      ],
      "source": [
        "zip(list(df.Start_Lat), list(df.Start_Lng))"
      ]
    },
    {
      "cell_type": "code",
      "execution_count": null,
      "metadata": {
        "id": "yVGrjc7cRo1b"
      },
      "outputs": [],
      "source": [
        "from folium.plugins import HeatMap"
      ]
    },
    {
      "cell_type": "code",
      "execution_count": null,
      "metadata": {
        "id": "4DzBcidvSEDV"
      },
      "outputs": [],
      "source": [
        "sample_df = df.sample(int(0.001 * len(df)))\n",
        "lat_lon_pairs = list(zip(list(sample_df.Start_Lat), list(sample_df.Start_Lng)))"
      ]
    },
    {
      "cell_type": "code",
      "execution_count": null,
      "metadata": {
        "colab": {
          "base_uri": "https://localhost:8080/",
          "height": 712
        },
        "id": "GJT9igMwMvLz",
        "outputId": "916a3694-2023-415d-ba23-1aa63a7b6e63"
      },
      "outputs": [
        {
          "data": {
            "text/html": [
              "<div style=\"width:100%;\"><div style=\"position:relative;width:100%;height:0;padding-bottom:60%;\"><span style=\"color:#565656\">Make this Notebook Trusted to load map: File -> Trust Notebook</span><iframe srcdoc=\"&lt;!DOCTYPE html&gt;\n",
              "&lt;head&gt;    \n",
              "    &lt;meta http-equiv=&quot;content-type&quot; content=&quot;text/html; charset=UTF-8&quot; /&gt;\n",
              "    \n",
              "        &lt;script&gt;\n",
              "            L_NO_TOUCH = false;\n",
              "            L_DISABLE_3D = false;\n",
              "        &lt;/script&gt;\n",
              "    \n",
              "    &lt;style&gt;html, body {width: 100%;height: 100%;margin: 0;padding: 0;}&lt;/style&gt;\n",
              "    &lt;style&gt;#map {position:absolute;top:0;bottom:0;right:0;left:0;}&lt;/style&gt;\n",
              "    &lt;script src=&quot;https://cdn.jsdelivr.net/npm/leaflet@1.6.0/dist/leaflet.js&quot;&gt;&lt;/script&gt;\n",
              "    &lt;script src=&quot;https://code.jquery.com/jquery-1.12.4.min.js&quot;&gt;&lt;/script&gt;\n",
              "    &lt;script src=&quot;https://maxcdn.bootstrapcdn.com/bootstrap/3.2.0/js/bootstrap.min.js&quot;&gt;&lt;/script&gt;\n",
              "    &lt;script src=&quot;https://cdnjs.cloudflare.com/ajax/libs/Leaflet.awesome-markers/2.0.2/leaflet.awesome-markers.js&quot;&gt;&lt;/script&gt;\n",
              "    &lt;link rel=&quot;stylesheet&quot; href=&quot;https://cdn.jsdelivr.net/npm/leaflet@1.6.0/dist/leaflet.css&quot;/&gt;\n",
              "    &lt;link rel=&quot;stylesheet&quot; href=&quot;https://maxcdn.bootstrapcdn.com/bootstrap/3.2.0/css/bootstrap.min.css&quot;/&gt;\n",
              "    &lt;link rel=&quot;stylesheet&quot; href=&quot;https://maxcdn.bootstrapcdn.com/bootstrap/3.2.0/css/bootstrap-theme.min.css&quot;/&gt;\n",
              "    &lt;link rel=&quot;stylesheet&quot; href=&quot;https://maxcdn.bootstrapcdn.com/font-awesome/4.6.3/css/font-awesome.min.css&quot;/&gt;\n",
              "    &lt;link rel=&quot;stylesheet&quot; href=&quot;https://cdnjs.cloudflare.com/ajax/libs/Leaflet.awesome-markers/2.0.2/leaflet.awesome-markers.css&quot;/&gt;\n",
              "    &lt;link rel=&quot;stylesheet&quot; href=&quot;https://cdn.jsdelivr.net/gh/python-visualization/folium/folium/templates/leaflet.awesome.rotate.min.css&quot;/&gt;\n",
              "    \n",
              "            &lt;meta name=&quot;viewport&quot; content=&quot;width=device-width,\n",
              "                initial-scale=1.0, maximum-scale=1.0, user-scalable=no&quot; /&gt;\n",
              "            &lt;style&gt;\n",
              "                #map_07a88482668d1c36b0d2a2e3d51fb818 {\n",
              "                    position: relative;\n",
              "                    width: 100.0%;\n",
              "                    height: 100.0%;\n",
              "                    left: 0.0%;\n",
              "                    top: 0.0%;\n",
              "                }\n",
              "            &lt;/style&gt;\n",
              "        \n",
              "    &lt;script src=&quot;https://cdn.jsdelivr.net/gh/python-visualization/folium@master/folium/templates/leaflet_heat.min.js&quot;&gt;&lt;/script&gt;\n",
              "&lt;/head&gt;\n",
              "&lt;body&gt;    \n",
              "    \n",
              "            &lt;div class=&quot;folium-map&quot; id=&quot;map_07a88482668d1c36b0d2a2e3d51fb818&quot; &gt;&lt;/div&gt;\n",
              "        \n",
              "&lt;/body&gt;\n",
              "&lt;script&gt;    \n",
              "    \n",
              "            var map_07a88482668d1c36b0d2a2e3d51fb818 = L.map(\n",
              "                &quot;map_07a88482668d1c36b0d2a2e3d51fb818&quot;,\n",
              "                {\n",
              "                    center: [0, 0],\n",
              "                    crs: L.CRS.EPSG3857,\n",
              "                    zoom: 1,\n",
              "                    zoomControl: true,\n",
              "                    preferCanvas: false,\n",
              "                }\n",
              "            );\n",
              "\n",
              "            \n",
              "\n",
              "        \n",
              "    \n",
              "            var tile_layer_4e0be4fa983bb576fecdc6cdb8307ced = L.tileLayer(\n",
              "                &quot;https://{s}.tile.openstreetmap.org/{z}/{x}/{y}.png&quot;,\n",
              "                {&quot;attribution&quot;: &quot;Data by \\u0026copy; \\u003ca href=\\&quot;http://openstreetmap.org\\&quot;\\u003eOpenStreetMap\\u003c/a\\u003e, under \\u003ca href=\\&quot;http://www.openstreetmap.org/copyright\\&quot;\\u003eODbL\\u003c/a\\u003e.&quot;, &quot;detectRetina&quot;: false, &quot;maxNativeZoom&quot;: 18, &quot;maxZoom&quot;: 18, &quot;minZoom&quot;: 0, &quot;noWrap&quot;: false, &quot;opacity&quot;: 1, &quot;subdomains&quot;: &quot;abc&quot;, &quot;tms&quot;: false}\n",
              "            ).addTo(map_07a88482668d1c36b0d2a2e3d51fb818);\n",
              "        \n",
              "    \n",
              "            var heat_map_731c59c540bb92cfc6589feb890284bd = L.heatLayer(\n",
              "                [[38.664634, -77.274813], [35.105111, -106.639527], [33.87608, -118.12872], [27.950789, -82.521816], [25.714146, -80.42711800000002], [38.835078, -76.889599], [27.870965, -82.3266], [41.538158, -73.04424399999998], [29.938544, -90.113583], [39.24109, -76.58901], [35.909116, -78.55425100000002], [40.11031, -75.320089], [36.022206, -119.039622], [37.37812, -122.06757], [40.73394, -73.86445], [25.727829, -80.415539], [32.868872, -96.667402], [43.60287, -116.585192], [40.799824, -73.929906], [45.150832, -122.870241], [34.15567, -118.29732], [42.00909, -77.129131], [30.506564, -84.250294], [44.644108, -123.950101], [29.728945, -95.460407], [45.006254, -93.45712], [31.78113, -106.39793], [34.046886, -117.965111], [34.0276, -117.5705], [39.91262, -74.154619], [39.85474, -75.366366], [34.161032, -118.380897], [34.0825, -80.94142], [36.74779, -119.82284], [38.628197, -77.293429], [41.373664, -73.610876], [38.7754, -119.82403], [34.081691, -117.63016100000002], [34.383934, -118.593257], [34.03309, -118.14486], [38.874166, -76.96933100000003], [41.84537, -87.63495], [38.916189, -77.056173], [39.693994, -75.624714], [34.128808, -118.346897], [34.772078, -82.360573], [32.724275, -117.114969], [32.822516, -97.449685], [40.73201, -74.16735], [44.303064, -118.949495], [42.975822, -83.732543], [33.1036, -111.831204], [25.76124200000001, -80.37552], [39.957949, -75.162566], [36.061034, -82.865494], [38.089914, -77.80704300000002], [35.404939, -119.034273], [34.906907000000004, -81.129108], [32.97972, -117.086859], [34.11115, -118.18145], [47.383301, -122.23108], [34.031374, -118.432106], [29.684938, -95.512274], [32.681546999999995, -97.394238], [40.09057, -75.41372], [26.803303000000003, -80.098254], [33.626846, -117.268887], [41.042874, -73.763143], [32.917107, -80.00961], [37.516865, -77.255859], [44.78197, -93.46977], [38.56553, -81.14016], [35.08149, -90.0255], [33.963827, -118.255879], [34.023959999999995, -118.427585], [38.197835, -121.068194], [35.46546, -77.064634], [34.64293, -117.215266], [42.90931, -85.67683000000002], [41.54843, -73.02753], [39.914735, -76.704472], [37.250207, -93.307496], [41.441042, -112.056618], [45.506654, -122.77168799999998], [41.344767, -73.75778000000003], [29.580705, -98.312818], [35.257105, -80.797015], [43.12681, -77.55351], [34.341762, -84.633651], [27.185443, -80.320991], [34.21074, -118.34664], [39.29407, -76.61681], [38.76742, -120.57851], [37.361342, -118.404691], [33.617265, -117.264837], [32.177927000000004, -111.001909], [37.429279, -120.774556], [38.56997, -121.51453], [39.205301, -119.788774], [30.151604, -97.696576], [28.59737, -81.2865], [29.803967, -95.315645], [25.911449, -80.157301], [42.94835, -88.1152], [34.07728, -118.46999], [41.071286, -73.896775], [30.190822, -81.67931999999998], [38.116111, -121.398056], [40.702471, -74.154169], [34.060631, -117.545181], [34.011733, -79.17738100000003], [41.56983, -87.417236], [43.387577, -71.969902], [28.598714, -81.415453], [35.773918, -78.639457], [46.827781, -92.195842], [34.00202, -117.834878], [38.554104, -121.474038], [40.85333, -73.96133], [39.349004, -77.391182], [37.81052, -122.36465], [34.43, -119.74175], [33.42109, -112.42679], [34.435161, -119.87104], [43.18326, -89.21283000000004], [38.365071, -81.74194200000002], [44.000898, -123.015214], [33.44921, -112.09935], [41.66004, -93.52236], [33.947528000000005, -118.279699], [41.87162, -87.75895], [39.929123, -75.827906], [47.789928, -122.316621], [38.484084, -121.51168], [32.782784, -96.882578], [45.914686, -112.288523], [28.404290000000003, -81.23761], [35.70039000000001, -78.58079000000002], [48.225595, -114.094838], [38.943313, -121.097583], [35.078919, -80.943208], [40.74319600000001, -73.97197800000002], [34.001290999999995, -117.351875], [40.72227, -112.04651], [35.616111, -119.652778], [27.983793, -82.32757099999998], [33.423275, -112.13453], [27.870688, -80.496361], [32.862165999999995, -96.808584], [39.88097, -75.00997], [33.50499, -112.11257], [39.1957, -84.66799999999998], [34.005720000000004, -117.96019], [44.124702, -70.007839], [34.803768, -81.674521], [28.352464, -81.526875], [34.988071000000005, -85.063255], [33.86076, -117.87717], [36.972556, -121.909571], [37.60943, -120.986219], [36.148487, -86.74557800000002], [45.131777, -94.969179], [33.98323, -84.34119], [27.710559000000003, -82.335222], [44.67903, -92.85341], [30.406722, -91.100259], [26.20755, -80.13985], [40.049635, -122.0912], [34.035182, -118.150118], [41.319769, -73.979472], [40.98526500000001, -73.685723], [40.03528, -120.11089], [38.801876, -77.515915], [44.096921, -123.168336], [38.577855, -121.401572], [42.397172, -87.8292], [37.141829, -93.278013], [31.801126, -106.307551], [34.114211, -118.481873], [26.456075, -80.17469200000002], [24.671441, -81.247447], [37.817559, -121.993143], [44.33081, -123.06091], [39.650892, -77.875567], [30.395119, -97.720089], [43.3227, -70.60792], [34.030775, -117.975882], [28.406741, -81.399123], [40.357582, -104.983019], [42.440968, -83.75511999999998], [40.118477, -75.154503], [34.059781, -79.02826400000002], [39.453932, -76.316152], [33.674651000000004, -117.318824], [37.990539, -121.729654], [39.02254, -94.69154], [36.959812, -120.063191], [40.707245, -73.761026], [38.811915, -77.188325], [38.109802, -122.50818999999998], [44.87421, -93.16356], [34.383591, -118.568068], [34.067501, -117.549923], [43.410319, -124.047242], [36.234346, -78.62046], [41.781588, -72.662621], [48.240303, -114.118858], [38.308709, -120.969379], [37.55161, -120.91139], [25.789128, -80.20202900000002], [37.762555, -122.404297], [40.012286, -75.724426], [33.79867, -118.08541], [33.9024, -118.062408], [43.92116, -121.35061], [42.45776, -96.33025], [34.144999, -117.272872], [29.92222000000001, -81.413901], [35.77232, -78.7195], [42.310875, -87.911437], [32.854611, -97.31285], [39.098871, -77.559174], [40.632616, -111.836065], [34.165353, -79.764588], [44.63999, -93.29685], [39.935721, -75.053883], [40.780724, -73.420161], [36.372906, -80.015578], [38.061801, -121.373745], [39.636043, -75.743413], [47.858518, -121.967125], [40.55651, -74.12805999999998], [45.34808, -94.829471], [45.150343, -122.637867], [34.066403, -117.55831299999998], [40.695524, -74.119244], [25.925276, -80.276624], [34.187973, -118.93531000000002], [34.066502, -117.233162], [32.74792, -83.71646], [34.070291, -80.95120899999998], [32.902499, -96.721361], [32.917784999999995, -96.847054], [43.06925, -123.35307], [38.99602, -77.02815], [40.022238, -75.61689], [32.998949, -117.25697], [45.100117, -93.454889], [42.463178000000006, -83.755296], [46.502792, -111.948168], [30.320171, -81.458573], [40.735307, -111.90456], [33.972541, -84.091833], [40.43264, -111.86886], [37.854758, -79.354874], [25.695358, -80.337942], [37.70074, -121.79365], [42.494922, -73.508222], [34.05634000000001, -118.20176399999998], [38.018572, -121.895079], [37.54218, -77.43394], [33.81531, -117.51178], [32.27196, -110.97822], [38.320323, -123.013304], [33.77425, -118.07798], [34.03664000000001, -118.16159], [34.07201, -118.21904], [37.996183, -78.31345400000002], [28.67279000000001, -81.46825], [35.982418, -83.978838], [41.57708, -87.5759], [38.603433, -122.589147], [33.696109, -79.465241], [29.599784000000003, -95.270851], [40.208206, -76.876795], [35.08576, -111.68727], [33.912445, -118.17947], [35.254432, -80.87454100000002], [40.757721, -73.609954], [37.770731, -122.405965], [34.311017, -119.296533], [37.799116, -122.220786], [34.324555, -117.41061], [38.840058, -77.404798], [37.582389, -77.46990699999998], [36.736888, -119.663971], [35.055842, -80.832205], [42.697951, -121.851002], [43.008234, -83.689493], [35.259715, -118.921876], [35.23982700000001, -80.83667], [37.74902, -122.20321], [30.38744, -87.082254], [41.76274, -72.8195], [33.947528000000005, -118.279699], [35.35885, -79.234373], [25.963327, -80.163402], [28.40946, -81.424515], [46.87752, -96.95864], [32.93483, -96.75197], [38.370025, -122.300893], [33.148989, -117.334439], [44.929505, -92.139824], [42.39792, -82.98566], [35.057161, -80.81235], [25.837474, -80.232251], [44.01145, -121.32151], [47.649776, -122.322599], [27.96487, -82.44669], [38.822862, -77.706535], [36.080989, -86.757139], [34.000219, -117.352602], [29.97946, -95.42199], [25.59865, -80.35243299999998], [28.513391, -81.329468], [46.333968, -114.20282], [45.115912, -123.213106], [38.453284, -121.942452], [27.442027000000003, -82.505336], [35.375951, -118.940822], [28.74285, -81.368239], [39.704171, -86.09913399999998], [33.87403, -84.276519], [34.914348, -82.184972], [35.584834, -82.522999], [39.19648, -84.47322], [34.22138, -118.47209], [42.022834, -87.956399], [35.27164000000001, -80.85146999999998], [32.74474, -96.845371], [36.90389, -121.63917], [29.753696, -95.558104], [43.12971, -120.89987], [32.779443, -117.112515], [38.79773400000001, -77.579603], [32.93266, -117.11232], [42.35786, -87.93464], [29.590167, -82.362949], [27.570102, -81.462911], [37.834718, -122.294693], [40.756541, -73.620661], [39.13456400000001, -121.589699], [43.130933, -77.47585600000002], [33.844667, -117.251429], [42.3698, -83.14409], [40.935016, -124.099215], [44.889687, -93.293724], [38.788292, -121.287804], [46.15854, -123.90356], [26.38601, -80.07643], [26.066647, -80.164969], [34.15478, -118.309049], [35.192295, -80.873928], [30.066961, -81.86699], [38.62011, -76.87536800000002], [40.705558, -112.517584], [34.234188, -80.66663100000002], [32.091032, -81.128035], [35.18747800000001, -80.72933499999998], [42.70802, -71.45087], [28.537849, -81.508934], [40.865482, -74.555743], [41.642678, -86.994348], [29.778131, -95.435944], [34.732859999999995, -118.29014], [35.527204, -121.044824], [37.500969, -122.329692], [38.683729, -77.441241], [33.918621, -79.203301], [29.700352, -95.392455], [40.837136, -74.020321], [34.020205, -117.81499], [40.727423, -113.266285], [37.15385, -121.653152], [35.81848, -78.68892], [33.88861, -118.35795], [28.605341, -81.404977], [28.415111, -81.422667], [30.592537, -87.174377], [39.82292, -86.19954], [41.497431, -95.227464], [35.66676, -119.330824], [40.79885, -76.43706], [41.747552, -72.659013], [38.67489000000001, -90.20582], [41.69396, -91.67178], [30.347361, -97.56554], [39.938088, -75.198082], [41.278918, -73.214676], [29.115792, -82.024751], [27.81168, -82.6645], [34.884007000000004, -82.423511], [47.40864000000001, -122.29173], [38.564833, -77.33803], [38.522281, -121.451244], [29.726540000000004, -95.46599], [37.470449, -122.158087], [40.319006, -123.920943], [38.67271, -90.39482], [34.235656, -82.160381], [25.807445, -80.290992], [37.80086, -122.28077], [37.965991, -122.275117], [32.443748, -93.771576], [45.421134, -122.784892], [32.84863, -117.03005], [38.50742, -90.349989], [40.113955, -75.16884300000002], [34.14474000000001, -118.27866000000002], [33.497732, -117.149502], [30.2643, -97.7351], [33.873456, -118.009693], [38.425658, -77.42094300000002], [35.018905, -85.235848], [33.997623, -117.933777], [35.383611, -119.0025], [36.58857, -121.88182], [25.685194, -80.418423], [39.222339, -76.660398], [43.0178, -85.676541], [39.23103, -76.64986], [33.577675, -84.346233], [27.781191, -82.679491], [34.140745, -118.471158], [33.864001, -118.324884], [42.309305, -122.846245], [35.19175100000001, -78.283499], [37.39797100000001, -121.91286399999998], [33.49428, -112.23771], [34.17034, -118.60984], [35.052404, -118.359376], [34.030496, -117.662514], [39.070028, -85.256875], [40.305436, -78.82560600000002], [33.894654, -118.331284], [41.036248, -73.816273], [39.63843, -104.79159], [45.12997, -93.39086], [35.317644, -80.824701], [25.73521400000001, -80.319257], [32.75875300000001, -96.815657], [37.632433, -122.402683], [34.10261, -118.24985], [28.550218, -81.447501], [26.224840000000004, -81.736514], [38.518818, -121.445664], [35.162631, -82.010876], [33.98912, -84.53806], [42.99584, -77.36845], [34.149574, -118.696557], [37.799321, -122.220979], [40.931442, -73.85639499999998], [29.794464, -95.474374], [34.067348, -117.430726], [40.829288, -73.84134300000002], [29.749321, -95.45621], [37.401932, -77.698708], [32.786314000000004, -96.790732], [34.495121000000005, -118.125], [35.64403, -82.58116], [26.149984, -80.168475], [33.544758, -80.58573299999998], [26.05693, -80.16233000000003], [36.692412, -119.763751], [39.959487, -74.916666], [40.51993, -74.29682], [25.814816, -80.337459], [42.05495300000001, -124.26904], [39.810179, -76.99130600000002], [35.803937, -78.700802], [38.76717100000001, -90.490912], [42.237316, -88.112503], [39.540707, -119.752853], [25.773899, -80.23923], [25.930767000000003, -80.188369], [33.544458, -84.581355], [29.747542, -95.586628], [27.126834, -80.289873], [34.125377, -117.914984], [34.076047, -118.230928], [40.74159, -111.894839], [33.832333, -117.931556], [41.144461, -87.286013], [38.866908, -77.063234], [37.75134, -122.15193], [45.70522, -121.58893], [38.45545, -122.72592], [35.533962, -82.6027], [44.454299, -118.198916], [34.943121000000005, -80.973476], [35.013674, -85.537565], [37.421858, -77.437653], [40.636535, -79.582173], [25.92444, -80.30784799999998], [33.904671, -117.459919], [25.898073, -80.34210999999998], [40.476537, -74.29925300000002], [35.023990999999995, -85.311686], [35.81147, -78.60259599999998], [35.026641, -107.335188], [38.032721, -120.269428], [44.415525, -117.307924], [38.963094, -77.156578], [39.87475900000001, -75.102161], [25.685183, -80.418839], [34.20221, -118.34031], [29.945071, -90.078309], [33.895720000000004, -118.28631], [39.818065, -123.50888], [47.269824, -122.31756], [25.898706, -80.201142], [45.33239, -122.574838], [44.62031500000001, -123.64924], [44.068961, -123.467985], [40.682449, -73.572012], [38.078972, -122.190332], [33.998964, -117.353578], [37.40633, -122.01219], [25.889494, -80.16233199999998], [29.982406, -95.277217], [36.77791, -76.28115], [34.701835, -82.916911], [34.270371000000004, -118.34226], [36.518179, -119.700776], [40.700648, -73.989882], [45.62194, -122.67272], [33.763559, -117.920209], [39.16945, -77.19060999999998], [37.691711, -77.700796], [40.853494, -73.963786], [34.078558, -117.698246], [40.715922, -73.807833], [32.069896, -81.19856700000003], [44.05644, -121.28029], [36.836718, -121.630572], [36.807963, -119.799448], [38.121453, -121.400417], [37.062786, -122.147623], [45.53173, -122.63325], [41.644673, -91.093928], [27.867315, -82.326549], [37.38665, -121.90556], [40.31503, -75.49391], [36.159649, -86.782573], [33.493423, -112.20323700000002], [30.508883, -91.158761], [32.77409, -96.79329], [39.785345, -86.13808], [25.793366, -80.321538], [43.15017, -88.05483000000002], [28.027243, -82.174743], [39.21584, -77.53463], [35.83119, -78.56923], [33.841162, -81.02362600000002], [34.134613, -117.64656200000002], [30.382735, -97.688299], [37.41688, -122.21175], [33.972366, -117.850694], [42.54752, -121.8988], [33.849973, -117.790375], [40.7066, -73.43034], [26.154336, -81.71401800000002], [37.743636, -120.939394], [33.020765999999995, -117.111607], [34.011721, -117.917776], [40.56218, -75.46271], [33.57529, -79.714744], [42.33514, -88.11203], [40.52846, -74.33700999999998], [33.451757, -112.13038600000002], [33.825503000000005, -118.215632], [38.77419, -77.18122], [37.80647, -121.99071], [44.77789, -93.5053], [29.7299, -95.4273], [47.364367, -93.872541], [40.747117, -74.16203], [44.789918, -92.883707], [36.854018, -121.569219], [40.40325, -79.83195], [30.390698, -87.266594], [38.42720300000001, -78.877276], [48.2007, -122.11871], [44.02941, -121.14233], [33.943233, -118.280123], [38.889843, -77.420458], [36.432949, -78.29264], [34.659633, -118.377253], [29.986494, -81.462709], [37.16723, -113.451057], [36.886295, -121.63275], [33.1001, -117.308567], [38.477116, -122.732308], [34.071998, -118.108243], [25.700915, -80.454645], [37.558653, -77.451939], [34.06375, -117.28355], [26.964852, -80.17182], [28.450757, -81.463059], [38.231153000000006, -122.112747], [33.17366, -117.348932], [38.634186, -90.186027], [25.761738, -80.352385], [25.81245, -80.21472], [26.286839, -80.297001], [41.663793, -77.083522], [33.453183, -112.2898], [36.058482, -119.003781], [28.48450200000001, -81.417386], [28.51325, -81.35158], [43.609744, -116.374474], [36.896327, -121.427131], [28.450989, -81.361362], [25.890634, -80.163446], [33.170619, -97.085839], [33.872040000000005, -117.80029], [38.88258, -77.023016], [42.47567, -83.13786], [27.734611, -82.38282], [29.988553000000003, -90.074221], [36.695454, -119.762718], [41.051691, -111.960564], [34.91275, -82.20976999999998], [30.49052, -97.67707], [33.529086, -112.157847], [34.22843, -117.288182], [40.75895, -73.99948], [47.4648, -122.27317], [25.88198, -80.242976], [25.688642, -80.315412], [33.693220000000004, -84.40374], [44.26281, -121.17716], [32.77738, -96.62438], [41.697262, -72.550556], [37.690911, -122.129392], [44.064842, -123.098641], [32.7725, -96.62363], [40.359537, -79.770365], [44.965755, -93.279326], [40.179081, -75.661367], [35.027309, -85.310639], [40.655457, -74.189862], [35.047015, -80.848047], [38.236189, -122.619263], [33.924454, -117.288515], [38.502149, -121.431971], [27.446457, -82.494753], [47.643625, -122.30777], [36.21095800000001, -119.327794], [34.055665999999995, -118.451885], [37.385326, -122.066248], [44.796101, -117.812605], [33.782259, -81.198161], [33.963336, -84.105361], [42.483937, -84.876603], [41.999069, -80.004116], [37.59584, -77.51073000000002], [34.027425, -118.037575], [34.303248, -118.479759], [36.989013, -120.03033899999998], [42.387946, -73.558756], [38.623065, -76.914222], [35.503563, -82.99603], [29.733521000000003, -95.402141], [37.481333, -122.176307], [33.807136, -84.379908], [38.232935, -77.503389], [43.054149, -83.70474200000002], [34.04307, -118.692395], [29.766790000000004, -95.35643], [38.044137, -78.818156], [28.486899, -81.425724], [40.235337, -75.324191], [39.5515, -76.66664200000002], [35.17944, -80.88483000000002], [44.830147, -68.226869], [38.593537, -121.283354], [25.687309, -80.35298900000002], [30.423951, -91.147944], [33.868746, -78.630173], [37.288137, -121.944653], [44.91243, -93.35085], [33.88592, -84.45786], [41.31966, -78.640692], [25.845326, -80.322514], [33.691675, -84.499978], [30.423677, -87.24217800000002], [35.052323, -80.769476], [34.05729, -117.80391000000002], [25.811331, -80.252478], [40.71012, -73.98915], [40.884493, -73.898495], [38.311619, -120.720345], [34.046735, -118.268591], [33.04209, -80.144299], [40.07482, -75.3516], [33.741875, -117.800334], [33.8978, -117.27513], [35.655361, -120.533956], [32.83473, -96.663309], [42.10094, -120.31909], [26.14611, -80.563762], [41.98434, -88.01692], [28.492772, -81.39675600000002], [30.474604, -84.29495899999998], [30.263984000000004, -97.889099], [40.559087, -122.296231], [37.74391, -122.40564], [30.388277, -87.274734], [35.34282, -80.77082], [42.47172, -83.11019], [28.409087, -81.404754], [33.664026, -117.385084], [40.83609000000001, -73.87008], [45.402781, -122.74462], [40.160525, -76.5905], [38.43349, -122.72234], [44.8719, -122.65173], [34.99839, -81.428296], [32.43108400000001, -93.862877], [40.44704, -74.424761], [35.726045, -80.859061], [27.796957, -82.796237], [37.700647, -121.79659], [35.866592, -78.58224], [37.494886, -122.227743], [39.98487, -78.23626999999998], [33.7677, -117.92028], [44.69986, -123.22097], [35.22027, -80.81085999999998], [33.99601, -118.14553], [33.900257, -118.058019], [37.396913, -120.460463], [42.33847, -123.579572], [36.148874, -86.774749], [37.237689, -121.761238], [43.06913, -88.47655999999998], [44.75521, -122.38207], [25.702151, -80.336387], [37.646395, -122.092807], [40.980563, -80.364579], [30.181793, -97.6862], [32.745075, -96.612259], [25.880626, -80.355278], [42.719103, -84.50444300000002], [40.734447, -73.436275], [37.036842, -122.042299], [33.668854, -112.121609], [45.972687, -114.142094], [38.608733, -121.429246], [37.70089, -121.82174], [25.858411, -80.207993], [40.73852, -73.80653000000002], [25.707759, -80.479354], [35.601599, -119.312532], [38.36326, -81.73791999999997], [38.973759, -77.02687], [35.87879500000001, -119.270928], [36.84084, -121.525205], [38.707824, -121.308708], [29.519663, -98.519061], [44.02901, -92.608285], [38.694628, -121.443013], [36.946139, -120.036805], [43.133623, -77.66257900000002], [39.106897, -94.587467], [28.3042, -81.36632900000002], [33.60982, -112.25486], [41.91693, -87.7559], [40.753322, -74.211026], [37.757711, -122.392234], [32.633073, -80.87404699999998], [34.925397, -86.571874], [39.65926, -106.636251], [45.980296, -118.40289], [34.082126, -118.295648], [32.846732, -96.911012], [39.195636, -121.301061], [42.283943, -83.211781], [35.42192, -96.30363], [38.692059, -121.336605], [40.691647, -73.999302], [25.903154, -80.324381], [34.688185, -82.99610600000003], [34.072026, -118.07563600000002], [33.46253, -112.49638], [38.63015, -75.81519], [38.866183, -77.065662], [34.02888, -118.00291], [25.885902, -80.20896], [25.942398, -80.327175], [38.964141, -77.243347], [36.678121, -82.039884], [25.824404, -80.2066], [39.284673, -76.535433], [32.894472, -96.712734], [27.901158, -82.700599], [34.074936, -117.134081], [37.209715, -121.722876], [39.336681, -77.013648], [38.921374, -77.10980699999998], [45.849047, -119.310911], [32.288245, -110.978278], [46.175385, -123.536584], [38.648436, -121.225474], [35.087641, -80.845176], [35.288805, -80.758424], [33.00971, -117.07984], [30.314895, -97.736636], [38.11952, -79.04214], [33.853843, -98.515743], [38.025645, -122.112017], [28.11516, -82.37164], [38.6515, -77.282112], [38.644595, -121.586971], [38.71011, -121.30688], [42.420556, -83.218869], [35.83721, -78.61319], [40.998998, -123.644985], [25.870913, -80.208608], [34.136495000000004, -117.427327], [25.867757, -80.175976], [41.17902, -73.18119], [29.68068, -95.227724], [29.139911, -81.12915699999998], [37.39867, -77.7082], [36.182658, -80.27646899999998], [27.91898, -82.729885], [26.54621, -81.854201], [33.797216, -118.263792], [34.003667, -118.337387], [39.991114, -75.612353], [33.77945, -117.876724], [34.34921, -119.06129], [44.465997, -119.459582], [40.022182, -75.617974], [33.412078, -80.664571], [41.684891, -93.465392], [46.05013, -123.91411], [39.619799, -104.899123], [39.74134, -104.62177], [38.584878, -121.455353], [33.55311, -112.09949], [29.597806, -95.386808], [32.807263, -94.015929], [41.308003, -73.032978], [25.590687, -80.381137], [37.660148, -120.759753], [29.627712, -98.235357], [25.732181, -80.379671], [32.690239, -96.822987], [36.882844, -76.133676], [40.07865, -75.86072], [35.022465000000004, -85.145539], [33.881965, -98.539606], [38.910386, -77.101526], [29.942561, -90.073782], [34.757999, -118.795672], [36.932214, -76.524836], [34.265566, -118.976747], [32.797632, -117.241138], [34.791798, -118.834708], [34.201389, -118.971667], [44.85918, -93.29825], [33.928984, -118.230329], [33.387544, -117.586502], [33.823319, -118.299194], [39.83508, -89.59357], [37.510105, -122.343957], [34.034202, -117.324648], [44.424227, -93.292379], [37.76041, -122.40648], [34.00490300000001, -117.930245], [40.85948, -73.91592], [38.49464, -76.933459], [30.75052800000001, -85.26722], [30.494503, -87.222371], [26.719018, -81.81481], [33.910990000000005, -84.21488000000002], [37.783194, -121.222554], [33.6875, -117.885656], [42.11775, -87.77868000000002], [38.821918, -77.68545300000002], [45.06964, -93.28549], [32.894561, -96.709143], [40.80953, -73.90303], [34.999340000000004, -120.435959], [33.82548, -118.22931], [40.381211, -120.593301], [25.73392, -80.287621], [35.846744, -78.680328], [40.845126, -73.91324399999998], [43.599725, -116.507703], [25.883515, -80.214325], [26.61679, -80.06835], [40.326456, -75.330545], [40.150948, -75.266963], [44.31055900000001, -123.286008], [33.668859999999995, -112.11351], [25.732609, -80.353276], [43.206331, -83.785698], [25.835713, -80.206214], [32.799464, -96.921097], [31.76842000000001, -106.42582], [38.87902, -77.25445], [38.997999, -76.99420699999997], [28.87324000000001, -81.28359], [39.342416, -76.468373], [38.036253, -78.840856], [33.925513, -79.833301], [42.981616, -83.676788], [26.13501, -80.16923], [44.83962, -93.10072], [37.924506, -121.230472], [35.314317, -119.035159], [32.66827, -97.21868], [41.86108, -87.64451], [33.808053, -84.365892], [34.054012, -117.689253], [38.718345, -122.617659], [32.794971999999994, -96.71918], [40.263844, -77.055465], [40.15945900000001, -75.123035], [33.929772, -118.343865], [40.439512, -80.010059], [33.982997, -117.339884], [43.095061, -75.250128], [39.378895, -76.727306], [41.17445, -73.18822], [37.265356, -76.65145], [32.67618, -97.0345], [36.112258, -86.811112], [41.68309, -87.60172], [34.782284000000004, -82.474587], [32.323347, -80.932964], [40.896669, -73.86079000000002], [32.47287, -99.69259], [42.37994000000001, -83.14619], [45.30485, -121.78724], [38.822704, -121.300282], [38.95119, -76.74906999999997], [25.589832, -80.419387], [40.910346, -74.093133], [40.620263, -122.970496], [35.89612, -78.50661], [40.321521, -78.921487], [40.974607, -73.86841], [45.796498, -118.367482], [25.92478, -80.154122], [27.514, -82.56304], [37.30182, -76.68186], [40.71902, -73.94596], [28.96246, -81.96759200000002], [32.76055, -117.194473], [25.689517, -80.365911], [35.202586, -80.758021], [27.654422, -82.676957], [35.606828, -83.00895], [26.094943, -80.234175], [40.716657, -73.944734], [41.67018, -72.83731], [36.029096, -95.95048], [40.90453400000001, -123.82659], [35.00853, -85.1532], [40.73635, -74.08508], [32.790616, -96.755465], [44.865498, -93.060091], [40.262453, -111.208053], [33.98915, -118.280795], [44.290534, -123.255175], [33.819063, -117.422947], [45.51083, -122.66182], [38.892577, -77.91125100000002], [28.56232, -81.37853], [40.751467, -111.71357], [40.738461, -98.63926], [25.714063, -80.429422], [45.052844, -122.949695], [37.679339, -97.307614], [40.87602800000001, -111.896983], [41.695295, -92.77665], [34.803206, -82.50885600000002], [30.194034, -97.778405], [40.37683, -77.00224], [45.669537, -110.974052], [44.240344, -92.959002], [40.771091, -73.877437], [37.684381, -113.061846], [38.92306, -76.99055200000002], [33.963578000000005, -118.370024], [39.242357, -94.524915], [34.559479, -82.501549], [25.598565, -80.35525200000002], [29.8137, -95.382557], [30.06957, -81.4986], [47.240377, -122.253713], [25.580832, -80.367529], [33.305608, -79.95425300000002], [26.009501, -80.2128], [27.00803, -80.44878], [28.273504, -82.32703000000002], [30.31724, -81.730632], [34.080504, -118.219113], [29.599902, -95.460833], [39.005852, -77.074016], [25.78411, -80.28856999999998], [41.84938, -87.64451], [34.05678, -118.24259], [37.732748, -120.894373], [29.78478, -95.668336], [41.103037, -74.026263], [37.764011, -122.217074], [42.196458, -121.698916], [39.260429, -76.702904], [34.05813, -118.21426], [33.165009999999995, -87.549952], [39.393185, -81.43910699999998], [40.51502, -74.29878000000002], [34.854315, -82.227485], [32.96419, -96.91707], [32.924488000000004, -96.776427], [35.151327, -80.793353], [32.871598, -86.65101], [34.108263, -117.1825], [33.359513, -84.66168], [37.913786, -120.46076399999998], [32.8304, -97.31254], [38.871511, -77.54168], [31.95768, -81.33169000000002], [34.211653000000005, -118.228028], [26.012428, -80.207718], [43.211022, -77.560301], [40.66765, -111.9388], [36.605354, -119.660995], [40.074188, -75.151637], [39.074413, -76.63112], [32.731433, -117.154416], [32.779140000000005, -96.812], [40.587841, -111.971441], [38.785073, -121.451271], [25.81314, -80.32155], [29.926233, -90.015162], [33.915659999999995, -118.18886], [45.51549, -122.69966], [35.042403, -85.186436], [30.236096000000003, -81.514329], [36.849176, -76.179855], [35.1669, -80.83018299999998], [32.18309, -110.906811], [34.10473, -80.96137], [35.524316, -82.596841], [41.08583, -73.459106], [29.84136, -95.49567], [37.335596, -121.858845], [37.70201, -121.91683], [25.476258, -80.465474], [25.714063, -80.429422], [34.13491, -117.5978], [38.573802, -121.581112], [41.747552, -72.659013], [37.141749, -120.441221], [40.575245, -111.977285], [34.905644, -82.015372], [35.122768, -80.817727], [34.140572, -118.710175], [45.445759, -122.731065], [34.04081, -118.17076000000002], [37.25633, -121.9581], [34.490011, -119.782778], [42.327947, -83.085532], [28.55317, -81.365493], [37.69359, -122.056401], [40.248799, -75.673278], [37.918421, -84.25742199999998], [45.511417, -92.982492], [27.139632, -82.459056], [34.790274, -82.56156700000003], [33.870855, -117.743931], [40.75986, -73.85486999999998], [34.38435, -118.571754], [30.427069, -91.077498], [25.823882, -80.24219699999998], [33.82615, -118.20504], [34.012878, -117.344125], [33.853539000000005, -81.027893], [32.977041, -86.686323], [34.07233, -118.08066], [46.102271, -123.165702], [33.992956, -118.061061], [27.777253, -82.681448], [33.775309, -117.873526], [27.88037000000001, -80.50119000000002], [37.54882, -77.44726], [40.73851, -73.90265], [39.846882, -121.606201], [33.803068, -117.975641], [35.019490000000005, -82.034766], [40.50977, -78.402528], [35.978626, -119.956959], [32.33956, -93.894454], [34.593692, -117.332911], [37.044258, -121.57818799999998], [28.474417, -81.396743], [36.24141, -86.75711], [32.870020000000004, -96.67203], [35.79027, -119.250615], [37.934629, -122.697327], [30.074957, -81.498779], [33.89502, -84.25341999999998], [36.232968, -119.762605], [40.518146, -76.46906], [42.721767, -73.833105], [28.188607, -82.54231999999998], [40.17884, -76.17749], [34.107331, -118.186632], [33.971711, -117.33142], [38.6385, -90.45534], [34.74944, -117.29703700000002], [47.537401, -122.334705], [30.417666, -91.142442], [39.238389, -76.478308], [44.994324, -92.960203], [45.572651, -93.211323], [37.277265, -93.410643], [41.844255, -122.68297], [26.10146, -80.16875999999998], [45.4968, -122.63145], [39.10949, -76.94725], [29.269031, -97.766336], [41.55542, -93.63534], [45.247044, -111.773959], [38.285175, -122.300459], [33.897683, -117.88095], [38.656636, -77.279639], [35.048286, -80.778786], [38.324392, -85.836564], [35.090076, -118.151748], [38.039953, -75.764778], [32.936008, -80.042627], [37.17307, -122.058605], [37.720067, -121.658613], [33.124004, -117.103646], [38.888461, -77.066482], [39.173437, -94.540218], [29.703638, -95.492906], [43.045377, -77.74954699999998], [38.561967, -122.540468], [34.130785, -117.929943], [33.653422, -117.291551], [41.101094, -73.973045], [25.963148, -80.161556], [33.762664, -78.971863], [32.651692, -96.764827], [37.170115, -121.989626], [32.901540000000004, -96.8979], [42.301239, -87.84605], [47.46805, -92.52502], [41.13458, -74.16811], [32.778890000000004, -117.06143], [26.627798, -80.067307], [38.018371, -120.395876], [37.74800000000001, -122.15031], [45.218031, -93.234359], [42.29854, -85.1994], [25.598519, -80.356751], [33.46188, -112.05241], [35.588518, -120.694982], [40.247629, -74.082409], [44.508844, -84.78045300000002], [41.789307, -122.587861], [38.125766, -81.388295], [33.755193, -117.851945], [42.825285, -83.869579], [38.56039000000001, -121.4815], [29.93857, -90.06446899999996], [43.083326, -76.226256], [40.71266, -111.888291], [42.57651, -71.15187], [37.487722, -122.206667], [33.70644, -117.779], [32.499071, -84.945784], [32.865307, -96.780361], [32.06851, -81.110548], [39.14207, -94.56428], [38.696359, -121.22519], [27.015627, -80.220311], [33.88043, -117.57018], [41.41183, -81.61578], [29.787262, -95.479818], [34.401148, -79.12483], [34.008842, -118.158573], [33.85731, -117.976252], [30.474494, -87.222502], [38.70387, -121.36367], [32.870020000000004, -96.67203], [45.135365, -121.616345], [34.113221, -118.244452], [44.79663400000001, -121.33201], [33.801244, -118.10792], [42.32776, -71.05896], [44.6811, -93.293611], [37.191313, -93.296652], [35.72802, -78.58606], [35.555386, -78.07363199999998], [40.61255, -124.203884], [32.344638, -86.223582], [37.26098, -76.648271], [35.75755, -78.56148], [33.775229, -87.274077], [35.007096999999995, -85.234379], [35.377382, -82.478474], [29.520467, -98.486489], [42.973397, -73.802429], [40.65406, -74.00782], [41.57785, -87.56348], [34.03049, -117.66272], [33.201453, -117.369422], [41.634267, -90.924364], [28.14964, -82.697583], [25.71434, -80.42124], [35.907257, -78.899785], [37.59662, -112.926546], [47.450973, -122.827316], [41.560537, -120.268146], [32.27581, -90.173456], [40.831129, -73.950742], [43.106334, -123.357829], [45.559862, -122.561427], [38.66075, -121.272129], [29.72155, -95.537932], [45.729399, -120.652574], [36.109201, -115.1806], [44.966506, -93.255736], [40.588183, -79.750026], [43.28284, -123.35588], [34.06597, -118.216192], [33.75119, -84.4963], [34.689258, -118.289162], [32.805358, -96.817177], [37.70186, -121.90237], [34.12405, -117.51105], [34.033091, -118.170285], [34.910199, -82.35955200000002], [37.78476, -121.270585], [36.705844, -120.042704], [28.069249, -82.45250899999998], [39.25086, -94.65846], [34.055001000000004, -117.299073], [43.63753, -95.36932], [34.767061, -81.037076], [39.893385, -75.221532], [38.93487, -76.917139], [33.737333, -117.823288], [47.627585, -122.332393], [34.780323, -82.376044], [39.9732, -83.0215], [32.07578, -110.927491], [30.417183, -91.089888], [45.558412, -123.599834], [41.328493, -73.846707], [33.945459, -118.313097], [40.802748, -73.915892], [35.688834, -120.60554], [39.15387, -75.64956], [43.21219, -77.43030999999998], [45.21051, -112.651544], [37.551166, -120.856231], [34.050755, -118.006398], [28.540174, -82.16250699999998], [35.29076, -80.75699200000003], [36.037899, -86.646925], [35.014520000000005, -85.3251], [36.170134, -86.772825], [37.80827, -122.36701], [28.490492, -81.432877], [28.084718, -82.50419000000002], [37.874507, -122.306036], [37.201992, -77.435479], [41.87116, -87.84857], [25.731971, -80.384713], [34.411643, -117.589474], [45.320444, -123.07108], [26.889324, -80.131778], [36.03445, -79.797096], [35.31845300000001, -80.77896899999998], [28.179812, -82.440022], [32.097625, -110.687552], [38.935793, -77.13429000000002], [39.067055, -85.92303199999998], [39.83032100000001, -77.69803399999998], [33.63738, -117.17131], [40.80928400000001, -73.93480100000002], [32.994504, -96.709682], [36.055701, -78.799234], [46.058499, -112.763671], [41.818834, -112.179873], [33.386004, -111.805683], [26.68121, -81.803984], [28.194555, -82.525166], [39.759627, -105.006896], [40.167066, -80.23694], [36.09564, -115.18054], [25.761075, -80.390041], [33.194091, -117.258137], [39.171207, -121.734943], [38.000898, -84.520297], [33.872489, -118.270915], [37.49847000000001, -77.54048], [25.686488, -80.383379], [36.160711, -86.76017900000002], [30.470591, -90.858124], [34.06392, -117.27238], [45.595157, -94.848948], [39.404429, -74.528514], [34.252701, -119.211008], [37.25075, -121.9067], [42.320579, -88.002617], [40.23298, -75.520426], [45.855141, -108.466504], [41.513725, -73.12202099999998], [40.768028, -73.904274], [33.48489, -82.214148], [43.061217, -76.156224], [28.385901, -81.505319], [43.88716, -123.02181000000002], [34.139167, -112.145615], [44.938897, -93.074941], [35.015991, -85.254195], [25.810261, -80.33999399999998], [34.12223, -117.69517], [33.615301, -80.86652], [41.65813, -87.58708], [25.709115, -80.28365], [25.71537600000001, -80.431229], [26.082416, -80.17032900000002], [42.34628, -122.87533], [39.84798, -75.09573], [25.904649, -80.24203299999998], [26.572171, -80.069304], [43.63173, -72.21041], [44.029665, -70.286532], [26.437729, -81.77964], [38.480805, -121.025787], [26.139034, -81.714791], [38.80518, -90.83726], [40.233939, -111.685477], [40.683253, -75.296104], [38.481607, -121.408674], [25.703514, -80.41476999999998], [36.1958, -115.22397], [36.64108, -119.70008500000002], [37.975365, -121.264395], [34.11122, -118.18046], [28.44994, -81.477808], [36.837904, -119.784861], [40.862732, -73.903306], [35.27257, -80.934975], [34.033858, -118.02718], [38.995235, -77.029313], [34.914614, -81.966916], [30.451309, -91.179836], [40.24693, -74.08255], [35.063893, -80.76991], [32.91639, -96.85974], [33.76546, -84.385267], [38.94059, -94.58707], [25.705784, -80.366415], [37.798293, -121.070366], [33.65732, -84.43361999999998], [41.224244, -123.652563], [38.478689, -76.775559], [40.893399, -73.816524], [37.69247, -112.15216], [28.06084, -82.35406], [30.664226, -87.960029], [37.71729600000001, -122.175041], [33.876705, -118.187816], [42.68790900000001, -73.859948], [25.949326, -80.148812], [36.988947, -121.936181], [42.930332, -78.899785], [42.573406, -121.881972], [38.827864, -78.578502], [41.111701, -73.396749], [25.939558, -80.280488], [40.62984, -75.47341899999998], [32.857416, -96.749007], [41.073375, -73.677964], [33.914019, -118.104678], [36.07361, -80.32500999999998], [41.538603, -73.007098], [40.874172, -73.905683], [34.046064, -118.190761], [41.8062, -72.66046], [34.145553, -117.300543], [25.718367, -80.30229399999997], [37.766317, -122.405257], [29.671697, -95.360683], [33.84689, -117.25285], [41.179309, -73.17934100000002], [44.960485, -93.201237], [40.697107, -74.222318], [41.890236, -78.602253], [34.06832, -117.34095], [45.12774, -93.48593], [45.0949, -120.67475], [43.01656, -88.034527], [25.733463, -80.415941], [34.367205, -80.130264], [34.287278, -81.536751], [28.459797, -81.398232], [41.378439, -88.459198], [38.378226, -77.458718], [41.80328, -88.0571], [29.460364, -98.516002], [30.422732, -91.136099], [44.861308, -93.160918], [45.29127, -93.55516], [30.417404, -91.090313], [41.6845, -87.66234], [40.05992, -81.0528], [41.767412, -72.655388], [33.168113, -87.524235], [40.58679, -122.36274], [39.359218, -76.746324], [34.14493, -118.03524], [33.919467, -118.081755], [32.89553, -80.70908399999998], [25.69138, -80.38895], [33.929462, -118.249288], [35.07343, -107.66101], [33.99103, -85.24866999999998], [38.912285, -76.934168], [38.68203, -121.33527], [37.60412, -122.069082], [27.768384, -82.658354], [38.651186, -121.478445], [40.70587, -73.8181], [37.595986, -122.058843], [42.6366, -83.23843000000002], [35.59472, -97.56718], [38.860143, -77.436573], [35.779739, -78.516327], [39.821942, -77.57211], [35.205022, -119.009598], [27.950843, -82.51475699999997], [33.85217, -117.971652], [34.07208, -117.91106], [34.036959, -118.169086], [45.124787, -93.343051], [33.428894, -112.632162], [25.808285, -80.26554300000002], [37.092418, -77.551663], [34.064236, -118.005491], [41.16169, -96.13898], [34.939388, -80.83758399999998], [34.067536, -117.558186], [25.942, -80.30340600000002], [38.57858, -121.50696], [39.3789, -77.26083], [34.521049, -117.996795], [35.261809, -80.837048], [34.03946, -81.093755], [26.42725900000001, -80.089874], [44.86729, -93.623778], [41.24316, -73.1093], [34.141694, -81.228775], [45.56772, -122.92527], [29.965025, -90.108669], [33.95669, -117.30653], [34.79529, -86.57659100000002], [40.896149, -78.219949], [25.86639, -80.20825], [34.155949, -118.255139], [31.743174, -84.414222], [30.439906, -91.157982], [35.894492, -78.803119], [39.87029, -104.98748], [34.819997, -114.595695], [34.351188, -80.685691], [34.051784999999995, -79.537099], [25.901535, -80.210094], [38.308207, -77.63498], [39.178436, -76.634606], [33.825949, -118.236333], [33.653201, -111.901638], [26.199724, -80.148227], [34.502258000000005, -82.88163], [27.462415000000004, -82.607333], [33.876257, -118.06737], [37.631087, -77.536874], [45.666913, -110.822515], [33.79927, -112.03052], [42.944214, -83.692116], [47.57949, -122.18131], [33.766884000000005, -117.819264], [45.621069, -122.559406], [43.01255, -83.68785799999998], [26.657654, -81.907128], [38.591576, -90.214445], [41.078428, -75.968023], [26.450645, -81.627655], [38.217453000000006, -122.136998], [44.421913, -121.859001], [47.45030300000001, -111.327535], [30.195143, -97.738803], [35.240803, -118.587], [33.97822, -117.37145], [41.009528, -73.852536], [35.056396, -80.812359], [32.366467, -93.699844], [35.027338, -85.253514], [39.814892, -104.982484], [30.002883, -90.050134], [27.338647, -82.528263], [39.80204000000001, -75.45091], [28.554781, -81.413975], [36.97253, -77.71070999999998], [35.290756, -80.75675799999998], [44.41204000000001, -117.30828], [38.99393, -122.879271], [38.54467, -121.47399], [39.09875, -84.52119], [25.91048, -80.236143], [30.438061, -84.280682], [28.593077, -81.244795], [40.803471, -73.91632800000002], [38.77423, -90.2388], [40.74978, -111.894], [34.00713, -81.03438], [35.909537, -78.553936], [33.91039, -117.28243], [25.667141, -80.36965699999998], [41.015299, -76.868169], [40.75938, -73.83893], [33.070609999999995, -79.977158], [26.11477, -80.16908000000002], [33.173336, -87.41099200000002], [36.337276, -119.629428], [40.024338, -75.031253], [25.883429, -80.216615], [35.780765, -78.743762], [34.311640000000004, -117.47744], [35.24134, -80.84357], [26.661361, -80.070515], [37.700407, -122.471279], [34.05819, -118.25402], [37.744934, -77.839021], [39.21682, -76.65703], [29.982644, -90.05494200000004], [39.989272, -76.019828], [29.74274, -94.989], [25.76413, -80.32054000000002], [40.094707, -75.192565], [38.597048, -121.38307], [27.752814, -82.677456], [36.454728, -77.554346], [34.115261, -111.356011], [38.923748, -94.76071], [33.876356, -118.08236], [29.828389, -95.380972], [38.498092, -121.448008], [38.760098, -120.506941], [33.644393, -117.915773], [45.541731, -122.29091], [25.843939, -80.241589], [36.39855, -119.01807], [33.929938, -118.213184], [32.694384, -96.803286], [34.216386, -118.473161], [43.955286, -116.893727], [47.370203, -122.772775], [30.57098, -87.291065], [40.636087, -76.194142], [45.801636, -95.102706], [28.450068, -81.465733], [32.673085, -83.71822399999998], [32.877215, -96.700198], [40.73213, -73.84300999999998], [45.36764, -122.59537], [32.3272, -86.26508000000004], [30.354488, -97.704054], [42.332587, -88.168611], [28.368340000000003, -81.513072], [42.07454, -123.69753], [39.153631, -74.748347], [34.042952, -118.272653], [44.897117, -122.985368], [33.97912, -81.10668000000003], [38.621705, -122.773591], [32.794715000000004, -96.814666], [38.378956, -120.69676499999998], [27.26035, -82.5227], [47.395492, -121.479278], [33.929586, -117.288638], [32.31231, -90.16173], [44.087201, -122.730256], [29.77068, -95.16908], [34.002674, -114.232975], [27.412472, -81.455663], [39.299428000000006, -76.743013], [40.726641, -111.967115], [33.513907, -79.07334399999998], [43.587948, -70.38879200000002], [38.222928, -122.129022], [41.22276, -111.97047], [38.581304, -120.966221], [28.661272, -81.469883], [42.99459, -83.74710999999998], [35.288861, -80.96465500000002], [38.43432, -122.40049], [38.742911, -76.16591700000002], [32.85222, -83.64173000000002], [27.051188, -82.39738299999998], [33.658758, -112.370406], [40.69406, -111.90239], [41.551934, -73.044136], [39.78002, -104.9593], [40.804864, -73.256798], [34.151325, -118.134095], [36.841675, -76.046193], [41.493271, -112.053871], [30.69185, -86.11697], [40.744519, -74.137851], [38.496162, -121.432361], [40.740072, -73.789869], [39.737752, -120.039464], [30.445025, -91.120824], [28.99896, -82.62159], [26.65752100000001, -81.882165], [44.196171, -121.23238700000002], [28.695956, -81.38718], [40.560243, -74.704224], [40.294492, -109.178504], [25.731925, -80.317114], [34.230317, -79.800145], [33.867956, -118.052294], [37.354989, -77.411854], [28.638240000000003, -81.543818], [38.836818, -77.091494], [34.077271, -117.488722], [34.032007, -117.327128], [30.512888, -91.125638], [36.72255300000001, -119.78975], [25.871906, -80.323219], [29.624708, -95.522249], [30.486117, -86.420087], [33.424562, -112.024058], [44.861804, -93.308884], [41.052228, -73.80886600000002], [34.004543, -117.953857], [38.703597, -77.87439599999998], [28.554693, -81.316601], [29.76319, -95.45555], [34.136835999999995, -80.957961], [38.550156, -121.473845], [38.53253400000001, -121.768749], [42.19573, -87.95397], [26.200897, -80.14917], [34.841026, -120.314251], [35.770362, -78.559163], [40.038771, -76.330393], [44.953511, -93.089872], [26.30504, -80.17253000000002], [44.310821, -122.00923], [39.413869, -76.608265], [26.20457, -80.142678], [37.597175, -121.048561], [37.22832, -120.380083], [34.944664, -82.44018], [34.078017, -118.285898], [34.05594, -118.2409], [29.273349, -82.195575], [39.85982, -84.2762], [42.745325, -84.508463], [33.866803999999995, -117.711521], [41.75649600000001, -72.649249], [30.367439, -97.706195], [28.187826, -82.54791], [36.541836, -87.52886], [33.195746, -117.204933], [37.32876, -121.89563], [33.749, -116.26803999999998], [45.37925, -118.99748999999998], [39.992733, -76.672102], [28.328692, -81.648706], [33.948821, -83.700388], [34.26891, -118.47224], [37.370221, -121.90169], [25.926631, -80.22802], [43.286062, -122.470977], [39.993592, -75.287727], [33.871517, -118.352389], [41.690495, -70.21146999999999], [34.136297, -117.459343], [41.31959000000001, -72.893182], [33.933767, -118.352469], [37.76384, -121.96803], [34.508496, -85.692554], [29.882637, -95.440104], [42.87917, -71.48640999999998], [36.664018, -121.657291], [34.084882, -118.30044], [45.429417, -123.138129], [34.037371, -118.373941], [38.570605, -90.440815], [37.523322, -79.710335], [45.100582, -93.299857], [46.864811, -100.144983], [33.85355, -117.88945], [25.809272, -80.314996], [28.534536, -81.28578900000002], [28.45008, -81.477938], [34.147736, -118.031661], [42.40054, -83.07091], [39.991792, -82.9854], [28.064657, -82.73877], [42.168782, -87.922075], [46.094563, -122.95898400000002], [38.679825, -121.339391], [33.91106, -118.074363], [36.773774, -76.254758], [44.889911, -119.010998], [44.97429, -122.71468], [26.53252, -80.172549], [41.015294, -73.638362], [34.068870000000004, -117.36655], [45.795339, -108.461033], [41.321662, -105.615431], [33.932685, -118.01171], [28.547344, -81.41360300000002], [32.659231, -86.501101], [42.464979, -121.871412], [25.888723, -80.148765], [34.56684, -118.68615], [32.765959, -117.128315], [39.72549, -105.11441], [42.968105, -82.48998], [45.59824, -121.13871], [32.770129, -117.149532], [36.838594, -76.28688199999998], [36.689085, -76.23074799999998], [32.762571, -96.775871], [34.038463, -118.02102], [34.835570000000004, -82.30611999999998], [30.421467, -97.932763], [36.817248, -121.635752], [44.97515, -93.2871], [34.085868, -117.098179], [32.473061, -93.794602], [39.265791, -76.563817], [36.081531, -86.726925], [38.522553, -111.520263], [37.99231, -122.30679], [28.265936, -82.674325], [33.939856, -81.146716], [38.668779, -76.876262], [34.635052, -118.339255], [29.613202, -82.8459], [40.427991, -79.95500200000002], [35.830169, -78.627563], [36.897277, -119.792465], [40.445841, -80.030371], [36.080413, -86.722836], [29.732018, -95.389232], [34.121164, -117.832242], [42.158337, -88.12836300000002], [46.78649, -95.87519], [34.031009000000005, -118.066559], [30.036895, -89.930035], [34.053858, -118.222284], [36.748265, -77.850447], [38.59486, -121.44422], [34.055001000000004, -117.299073], [44.884292, -93.296114], [40.854842, -73.9702], [42.991538, -82.451527], [43.671909, -92.918683], [40.740884, -74.063872], [29.73048, -95.41629], [37.869528, -122.304762], [34.272848, -118.357053], [34.470336, -118.616627], [28.559258000000003, -81.491929], [38.325271, -81.7146], [40.441085, -75.906126], [37.710405, -120.994884], [32.761637, -96.808233], [35.98292, -83.93892], [34.219942, -119.078871], [36.093379, -87.023099], [25.597949, -80.44614], [43.163892, -77.601539], [33.740512, -117.999976], [29.622563, -82.389661], [30.38701, -81.55807], [32.207486, -110.830531], [42.256765, -73.614058], [32.672575, -96.957638], [42.985837, -85.737052], [40.8079, -74.18239], [45.5075, -122.72064], [38.932562, -119.734243], [43.922277, -91.363195], [33.83459000000001, -84.42801999999998], [44.95177, -93.17339], [33.971432, -118.377374], [30.382753000000005, -86.382621], [32.775512, -96.811007], [36.37158, -120.103214], [38.627295, -121.560105], [41.65813, -87.58708], [39.218477, -76.726895], [45.562883, -94.135863], [33.388526, -117.227826], [32.941319, -96.743933], [39.813554, -86.03081], [35.223165, -82.742221], [39.40647, -76.77658000000002], [38.889148, -121.292804], [36.841721, -76.16434699999998], [47.69056, -122.34454], [32.97737, -80.214467], [30.455151, -87.25496], [29.230067, -95.699315], [45.784092, -108.638603], [45.429266, -93.573892], [35.252986, -118.788476], [45.59436, -118.52488], [37.638248, -120.911561], [29.503761, -98.399228], [38.956841, -76.864554], [25.925124, -80.30846700000002], [33.6783, -117.84672], [34.06745, -117.56852], [34.436205, -118.376494], [29.856224, -95.419686], [39.494251, -77.565203], [41.445273, -73.472394], [33.7182, -84.23985], [39.01275, -77.09351099999998], [34.047178, -117.800742], [28.66526, -81.41959], [25.704114, -80.334288], [33.70207, -117.94982], [41.274488, -82.813226], [25.809424, -80.31626700000002], [32.235653000000006, -110.827541], [30.46193, -97.668056], [37.86278400000001, -122.209091], [33.68725, -117.872157], [25.934112, -80.12182800000002], [45.519548, -93.583134], [35.21392, -80.83746], [37.720114, -121.937379], [42.372227, -83.21674300000002], [37.941447, -77.474512], [25.926457, -80.24065300000002], [25.670988, -80.413044], [33.66918, -112.10774], [36.875531, -76.301886], [25.735494, -80.335863], [26.172233, -80.156968], [41.119819, -74.005483], [38.848661, -77.41974599999998], [35.77302, -78.60045], [30.020396, -90.01401899999998], [34.546487, -118.129628], [36.374285, -85.635013], [30.005984, -90.061122], [44.01201, -92.39635], [33.60557, -114.53375], [37.65338, -77.45091], [37.25977, -121.96821], [32.35927, -111.07167], [34.10678, -117.895883], [40.822034, -98.142628], [45.369004, -122.601073], [43.160799, -77.698734], [40.7416, -73.83748], [40.63748, -111.80884], [41.98469, -87.83185], [42.042027, -122.591232], [43.037395, -83.670463], [25.748038, -80.304558], [27.828372, -82.678403], [33.70345, -84.16691], [35.071863, -85.250337], [34.91771, -82.10178], [44.6332, -123.09227], [33.876394, -98.486555], [38.907295, -77.993217], [26.151318, -80.202773], [39.684981, -74.88951999999998], [27.96475, -82.452525], [29.368144, -82.170955], [28.336331, -81.47986800000002], [40.736209, -78.194487], [38.95927, -75.79778], [36.569016, -121.755723], [33.716235, -84.252487], [40.77016, -73.87948], [37.43394, -77.489962], [35.05616, -118.995548], [33.783735, -118.091473], [39.024026, -77.389277], [37.75983, -122.39226], [39.87591, -75.12100000000002], [33.980573, -117.36875], [35.378669, -119.044321], [30.35818900000001, -97.688147], [28.599289, -81.55], [34.795836, -118.857489], [33.10655, -117.31277], [39.936303, -77.96750300000002], [34.20519, -118.47347], [46.166747, -123.603768], [34.892876, -82.407824], [25.765135, -80.240122], [33.880423, -117.612003], [33.03568, -117.076954], [41.17464, -73.15839], [48.69553300000001, -122.454953], [34.041983, -117.801613], [34.265347, -111.195167], [38.189562, -121.207311], [40.286167, -74.70854399999997], [38.30559, -75.60942], [33.421951, -111.936633], [28.331377000000003, -82.69840699999997], [37.832575, -122.480992], [37.754043, -121.46302], [42.85409, -78.79099000000002], [36.735437, -119.889749], [33.828107, -118.297088], [42.430375, -123.252688], [34.010259999999995, -117.42905], [40.85175, -74.17489], [37.65864000000001, -77.45645999999998], [41.894847, -87.65649], [29.721615000000003, -95.519132], [38.715533, -77.464058], [28.559353, -81.475826], [33.93837, -80.9521], [35.208678000000006, -80.757533], [32.774279, -97.212583], [46.14302, -123.92096], [38.034272, -122.269658], [38.538341, -121.358513], [35.186601, -80.96892700000002], [25.73417, -80.302918], [44.942424, -93.398999], [28.172063, -80.648105], [38.593537, -121.283354], [28.193519, -82.46547], [36.173886, -86.76589799999998], [25.76972, -80.333946], [42.485351, -83.27565799999998], [35.344912, -119.02131], [28.57807, -81.430334], [34.661466, -86.78768000000002], [25.879752, -80.208912], [47.870307, -91.841755], [47.64299000000001, -117.607102], [41.224513, -95.975697], [45.747788, -123.194069], [37.759548, -122.39224], [35.32271, -80.90196999999998], [33.838759, -118.26296200000002], [39.24009, -121.648574], [25.644871, -80.38545699999997], [33.864539, -78.722201], [39.164699, -77.239375], [37.498966, -77.047816], [33.99426, -117.89352], [32.789177, -96.856411], [37.49543, -121.95229], [36.9611, -81.06474], [36.260493, -86.738208], [44.719515, -122.243597], [33.896217, -118.187433], [40.134887, -83.01688100000001], [28.4333, -81.40862], [34.037506, -118.038268], [38.917537, -77.00711899999997], [25.770159, -80.369194], [34.068142, -118.027828], [40.701349, -73.961089], [25.728837, -80.423733], [41.244668, -73.082963], [33.62856, -112.240136], [34.032208000000004, -81.123007], [40.248899, -75.65213100000003], [28.495335, -81.396918], [30.462979, -97.668883], [34.742994, -114.557993], [35.172145, -80.852314], [25.826214, -80.316331], [36.753548, -119.7294], [25.77915, -80.37319000000002], [29.970474, -90.100906], [42.138737, -86.362785], [40.112229, -75.481638], [42.466713, -82.92054300000002], [33.134208, -117.12667], [38.240323, -121.51488], [40.701062, -73.99042], [37.940814, -122.515991], [45.605486, -106.266869], [42.19177, -71.85766], [40.662063, -74.184676], [33.54915, -81.93889399999998], [41.91964, -87.67369000000002], [35.179833, -80.890058], [39.996167, -75.082637], [28.437533, -81.40436], [30.408061, -91.101918], [34.06776, -117.53934], [39.356449, -123.509341], [35.15922800000001, -81.87282900000002], [33.928431, -118.252726], [39.25607, -81.1931], [28.761509000000004, -81.361302], [29.927304, -95.55038], [38.68519000000001, -121.515989], [42.473112, -73.806034], [41.86225, -87.9185], [38.86394, -119.999984], [38.85285, -76.98454], [34.067654, -117.578867], [33.135287, -117.13258], [31.50072, -103.23534], [34.08724, -117.65454], [34.749763, -86.696639], [37.418758, -77.57203100000002], [30.309993, -97.708844], [31.77518, -106.47764], [41.667409, -85.821462], [39.306877, -76.743916], [25.656495, -80.41090600000003], [47.41678, -122.28945], [42.48773900000001, -83.046295], [26.330063, -81.762466], [28.627362, -81.41511], [35.026720000000005, -85.304664], [38.14097, -85.77421], [36.229263, -86.59465300000002], [34.168926, -118.141247], [35.790405, -119.250693], [45.344852, -120.779903], [34.970156, -81.931552], [42.65628, -78.96377], [44.965663, -93.202214], [29.704896, -95.476208], [30.734151, -86.37244799999998], [41.232349, -95.883511], [25.926694, -80.23306600000002], [36.22089, -86.7747], [34.202743, -83.559608], [34.193944, -118.415478], [45.612389, -94.027457], [42.0546, -87.83816], [40.90314, -74.095069], [34.201243, -118.403534], [44.25941, -121.1794], [45.62485, -95.88215], [33.699846, -117.084864], [37.698207, -122.149007], [44.630139, -122.953818], [32.870020000000004, -96.67203], [40.797289, -73.975592], [33.771021000000005, -117.992081], [40.21687, -75.24714], [41.759068, -72.647492], [28.474828, -81.417609], [33.809581, -117.967557], [41.84265, -71.41096999999998], [36.604846, -82.223385], [42.1673, -87.84449000000002], [41.74571, -87.91538], [45.51809, -94.281232], [33.78413, -84.39083000000002], [31.698201, -106.287331], [33.788375, -118.096243], [39.17058, -94.6249], [37.517128, -122.259878], [44.048148, -123.172928], [32.297266, -80.96978], [40.714472, -73.38195999999998], [28.66611, -81.42726], [45.97899, -92.954841], [35.824602, -78.62162099999998], [30.0271, -90.0207], [35.25279000000001, -92.93678], [41.84636, -87.97236], [45.20731, -93.405006], [25.89548, -80.32533000000002], [40.699179, -74.238038], [40.781518, -73.53571], [41.28537, -73.0435], [40.905814, -74.13478], [38.55826500000001, -121.385147], [32.88048, -96.69133], [40.113067, -75.119247], [38.886018, -121.97595], [34.470971, -104.242999], [40.69465, -73.54139], [38.080693, -121.140172], [45.456286, -119.678202], [25.47479, -80.466551], [30.185187, -81.704338], [39.957601, -75.161313], [34.03558, -118.437897], [30.561628, -81.846436], [43.082713, -77.607417], [44.660064, -121.132591], [39.287113, -120.103877], [25.890108, -80.189852], [39.785324, -86.270431], [33.350396999999994, -111.78964], [38.75587700000001, -121.263226], [38.33397, -121.468416], [33.871517, -117.701803], [25.789997, -80.32405899999998], [38.052998, -121.332949], [30.520437, -97.688831], [33.47912, -117.685379], [35.782407, -78.679513], [30.433984, -81.580492], [34.07121, -118.23508], [33.775191, -117.873439], [33.599348, -83.833056], [35.46364000000001, -97.57746], [45.371522, -122.711774], [28.452549, -80.957803], [33.206998, -117.132268], [41.723528, -72.77072], [33.957828000000006, -118.111836], [36.898504, -121.747934], [28.482218, -81.420294], [38.61065, -90.30346], [38.3559, -87.687045], [43.042395, -76.592745], [38.610638, -121.401529], [32.23621, -81.15075999999998], [36.786617, -76.079399], [47.358137, -122.614558], [30.487955, -91.169242], [38.393326, -121.34238700000002], [44.085608, -121.301158], [32.338824, -110.977496], [36.75758, -76.287892], [40.122191, -75.05020999999998], [40.84478, -73.90484000000002], [35.86349000000001, -86.83168], [41.91582, -87.66803], [41.032313, -74.07028100000002], [25.858705, -80.250405], [40.206598, -75.139746], [33.8958, -84.45173], [28.486417, -81.599715], [33.575140000000005, -111.8137], [25.924682, -80.16998000000002], [39.16062, -76.644417], [28.452476, -81.47081800000002], [32.28715, -90.22342], [25.774356, -80.136052], [43.776433, -73.80064200000002], [34.134725, -117.630947], [37.58744, -77.47196], [37.964812, -121.740542], [40.782454, -73.986276], [39.954861, -74.206691], [28.324202000000003, -80.77106500000002], [36.03184, -95.92209], [25.8084, -80.20640999999998], [36.135988, -86.66353199999998], [46.699501, -92.423204], [45.53161, -122.25303999999998], [42.973714, -85.663195], [29.740598, -95.375315], [34.145399, -118.757162], [34.073871000000004, -81.004267], [34.029351, -118.226145], [44.653791, -123.844424], [33.949889, -118.044893], [41.664186, -91.340841], [36.239036, -119.073611], [43.149269, -75.211269], [36.225507, -119.393596], [40.709492, -78.44850100000002], [33.36461, -82.07685], [36.356305, -119.394727], [43.43375, -123.31484], [41.065217, -73.506362], [35.80685, -78.4222], [25.671274, -80.34616899999997], [33.77655, -84.60155999999998], [28.09354, -82.7397], [37.752501, -122.402997], [40.491352, -76.22321], [29.688274, -95.578668], [33.912152, -118.177539], [38.579119, -121.368728], [38.387633, -121.347451], [25.625151, -80.41441400000002], [32.24988, -110.9525], [45.6637, -118.75653], [38.724335, -121.32751], [35.798519, -78.56369699999998], [36.796374, -121.723686], [26.017094, -80.167397], [38.554141, -121.688756], [41.88150200000001, -72.66055899999998], [40.463516, -74.404602], [38.592985, -122.849539], [45.716117, -120.237239], [42.76673, -123.32209], [29.933153000000004, -90.02744399999996], [32.484709, -93.720442], [43.942157, -95.633512], [34.030269, -117.580651], [35.13316, -80.83901], [26.574543, -81.899498], [35.00595, -89.90151], [30.476728, -91.167265], [33.471013, -112.146506], [40.065362, -76.345972], [42.816181, -73.212136], [43.695967, -93.431508], [32.67476, -97.139046], [25.810617, -80.313379], [28.523415000000004, -81.38595699999998], [42.00252800000001, -87.748674], [35.05823, -120.503975], [35.82201, -78.74594], [33.996321, -117.840067], [33.931228999999995, -118.394837], [44.47192, -93.28663], [34.13467, -117.64184], [38.948303, -77.37714799999998], [28.072867, -82.738809], [25.476233, -80.477452], [38.87316, -77.04217], [47.47278, -115.88497], [37.342196, -121.92467], [33.06508, -117.06868], [36.154221, -86.83465600000002], [25.88232, -80.16609100000002], [33.426347, -80.35846], [40.73525, -73.91933], [32.437659000000004, -93.797092], [38.818739, -104.822579], [38.610253, -90.210479], [26.08719, -80.16903], [29.067062, -82.177734], [42.94432000000001, -71.47073], [48.935086, -122.32174], [40.457536, -74.24789], [37.206676, -77.410427], [41.88178, -87.64735999999998], [47.892912, -97.090011], [38.865047, -121.301956], [38.568611, -121.511175], [29.970901, -90.06754000000002], [35.267228, -80.743112], [37.50918, -122.341893], [42.748521, -78.834854], [28.452939, -81.400159], [34.411958, -117.590124], [27.208786, -81.851231], [37.083288, -121.97677], [30.309024, -97.757254], [25.953226, -80.178195], [41.142183, -73.277677], [41.8486, -87.97821], [40.137975, -75.394111], [34.00696, -117.96423], [34.657605, -92.40754], [43.981887, -117.239076], [40.045211, -76.313923], [34.055686, -118.451951], [40.906444, -74.603894], [35.362261, -118.958629], [47.69837, -122.32968], [29.737291, -95.605941], [39.16127, -94.49667], [45.66764000000001, -120.84456000000002], [33.92819, -118.29621000000002], [25.888377, -80.20876700000002], [34.00031, -118.281033], [34.201107, -80.741372], [37.766317, -122.405257], [35.736433, -81.095677], [36.871555, -76.43336500000002], [29.733675, -95.501313], [30.191131, -82.6945], [45.13389, -93.2355], [45.56516, -122.55718], [40.751777, -111.910547], [34.134741, -117.63568], [30.41119, -91.07843], [37.405339, -122.056326], [33.669952, -80.896164], [36.662596, -121.623815], [40.68702, -111.8883], [45.556103, -122.67872], [25.92184, -80.21123], [35.017373, -85.322349], [32.942966, -80.05240500000002], [34.036699, -118.349154], [38.654361, -121.036698], [34.058937, -117.689644], [34.154919, -118.319593], [44.97051, -93.34076], [34.668488, -82.523459], [44.8896, -93.35018], [32.727509000000005, -117.104698], [33.992582, -118.342014], [35.059731, -80.81280500000003], [28.41965900000001, -81.404622], [30.436805, -91.05733], [36.707478, -119.709119], [37.404338, -77.667742], [41.279207, -75.52131700000002], [29.93812800000001, -95.430205], [42.989853, -77.523904], [38.737267, -77.192484], [38.705015, -120.855283], [28.346805, -81.651224], [33.902434, -117.880986], [34.12107, -117.9032], [42.702241, -73.83436999999998], [38.44297, -122.72213], [33.844617, -117.243829], [41.023336, -77.927604], [32.72112, -97.062398], [39.72537, -105.11301], [40.113658, -75.349877], [37.086781, -121.167873], [41.60042, -93.58501], [45.035573, -93.777503], [44.861653, -93.272794], [45.708152, -110.981309], [44.8592, -93.406956], [43.02024, -87.91823000000002], [40.610947, -75.521618], [40.129558, -86.127974], [32.925065999999994, -96.786913], [33.88358, -117.5358], [36.210797, -119.064508], [26.68506, -80.06867], [28.567119, -81.210937], [25.851676, -80.207786], [31.900016, -106.408128], [40.71951, -111.865256], [25.79319, -80.20551999999998], [33.946168, -118.020257], [43.748569, -70.219021], [37.689258, -122.106008], [38.453897, -121.409214], [41.73976, -72.62993], [35.42717000000001, -77.88525], [41.181564, -79.146167], [25.925542, -80.29089499999998], [32.803883, -117.150621], [33.075391, -83.981601], [39.077886, -94.971839], [47.806231, -122.307147], [30.44262800000001, -91.138463], [32.877563, -113.11468700000002], [40.54414000000001, -111.952959], [45.40401, -118.33822], [41.544467, -76.401747], [41.195586, -73.281544], [29.69946, -95.51889], [33.964363, -118.169236], [40.779134, -77.763297], [37.514045, -77.242257], [25.885195, -80.209136], [25.988148, -80.165745], [26.70904, -80.13999], [25.869569, -80.197052], [25.964, -80.186545], [34.154179, -118.468226], [33.298364, -111.089669], [28.552164, -81.344658], [39.694127, -84.21084], [25.884164, -80.243217], [40.693018, -112.024821], [37.644135, -122.451426], [37.365788, -121.827986], [33.989607, -84.54866700000002], [44.20328, -88.48541999999998], [28.55598, -81.364459], [34.038070000000005, -81.10636], [32.474243, -93.79028], [37.986927, -121.28503700000002], [34.1398, -118.36537], [43.088947, -76.38511700000002], [33.928495, -118.289676], [28.530647, -81.38608599999998], [45.318399, -122.76953], [29.95502, -90.090487], [40.74276500000001, -111.989918], [41.74314, -72.7348], [34.276758, -118.423216], [39.096177, -94.552645], [47.702175, -95.00027], [30.482296, -87.323441], [38.848098, -77.21985699999998], [25.807683, -80.262012], [34.07979, -80.93701999999998], [37.598213, -120.999679], [45.61306, -122.67807], [34.056201, -118.003079], [32.573271000000005, -86.68171], [35.122904, -80.912103], [37.146006, -93.42881], [37.89741, -122.311741], [40.76941, -111.93922], [40.847867, -73.934797], [40.795976, -73.414335], [35.007584, -82.281806], [33.812532, -118.290251], [38.387082, -122.713574], [33.857743, -117.98188], [25.749963, -80.303587], [38.57985, -121.5054], [33.996386, -117.870175], [34.055504, -118.198421], [45.53224, -122.84244], [34.063957, -81.138657], [25.747977, -80.307929], [34.023916, -118.188988], [42.998792, -85.588768], [34.015827, -118.135579], [34.068777000000004, -117.861328], [45.429062, -122.565674], [34.248611, -118.321827], [33.922315000000005, -118.104346], [42.86316400000001, -78.79175], [44.295873, -124.108532], [45.410217, -94.053643], [36.92384000000001, -120.0561], [39.736016, -123.258019], [30.211422, -81.513784], [25.77004, -80.313908], [30.227315, -97.773403], [33.934589, -117.662984], [37.4823, -77.50429], [33.155525, -84.871262], [40.398382, -111.538863], [34.167874, -118.496999], [40.019663, -75.69454499999998], [30.384374, -81.671098], [38.70818, -121.30851], [38.86559000000001, -76.95130999999998], [37.798009, -122.273259], [40.68066500000001, -121.424596], [33.925384, -118.30989], [39.04267, -94.36918], [34.120946999999994, -117.890151], [43.72067, -121.47205], [25.600802, -80.35325999999998], [39.121596, -76.767905], [37.470513, -77.428411], [39.935707, -77.997268], [36.06628, -80.229066], [26.633053000000004, -80.067859], [38.800846, -77.083286], [32.67635, -97.18723], [32.900519, -96.718846], [45.529693, -122.665303], [28.990484, -82.141889], [33.742885, -117.44043700000002], [34.747296, -92.402745], [41.26373, -73.68382], [37.749398, -121.730828], [36.963511, -121.964882], [39.78434, -105.025243], [29.785882, -95.772845], [39.95075, -75.12231], [38.620511, -121.261249], [43.030976, -83.773496], [47.420378, -122.287393], [34.148393, -118.37228799999998], [39.18539000000001, -94.39568], [25.89166, -80.373303], [32.837163000000004, -96.914922], [34.077575, -117.208769], [39.429601, -77.998103], [27.326597, -82.463993], [34.0007, -117.063392], [30.523351, -84.353466], [25.70093, -80.334023], [32.890019, -117.227589], [28.035237, -82.12519499999998], [43.18125, -77.5085], [36.22515300000001, -80.317879], [33.9959, -84.07849], [45.124323, -93.188402], [33.864183000000004, -117.993852], [40.152157, -82.970038], [48.302685, -118.735886], [32.86821, -96.66777], [40.09105200000001, -76.330218], [38.848661, -77.41974599999998], [47.325295, -95.966308], [28.599275, -81.414342], [33.18175, -79.92066899999998], [32.296124, -95.315407], [41.03573, -75.31161], [32.785531, -96.624552], [30.736924, -86.348545], [27.11178300000001, -82.31984200000002], [34.152017, -118.128161], [33.324282000000004, -117.158116], [25.926882, -80.207441], [28.492108, -82.429078], [37.80937, -122.36581], [27.9228, -82.34978000000002], [42.27523, -88.01885], [28.764029, -82.537444], [34.106703, -118.255642], [33.574636, -117.671978], [42.30868, -87.87700000000002], [40.113352, -75.341413], [32.964702, -117.247198], [39.403938, -76.57179000000002], [25.684099, -80.400543], [38.145438, -121.643495], [34.288598, -79.884692], [34.135765, -117.584803], [29.9789, -95.27807], [33.541998, -112.27124], [36.49616, -121.364839], [30.164566, -81.746802], [25.797116, -80.311366], [27.350005, -82.266894], [39.942872, -75.58815200000002], [42.069408, -88.30171], [35.441575, -119.189717], [25.948779, -80.183984], [38.75723, -90.05638], [47.30024, -122.25437], [42.68835, -124.43413], [38.83872, -94.52908], [28.47988, -81.396641], [40.159934, -75.134461], [29.72155, -95.537932], [33.939993, -84.154686], [39.07288, -84.3584], [37.363343, -121.893937], [38.29655, -122.120452], [33.77758, -84.39076], [28.338766, -81.389352], [33.84290900000001, -118.090799], [38.48163, -121.42232], [42.863298, -73.78331700000003], [25.769365, -80.341256], [39.57179, -75.054], [40.421715, -80.09697299999998], [34.762214, -118.797484], [48.415113, -115.586576], [25.76107, -80.391406], [35.193798, -80.706867], [37.344511, -120.613328], [34.035528, -118.169879], [36.753193, -76.528613], [37.026468, -121.56901], [41.11192, -73.546494], [34.056103, -118.255917], [25.772914, -80.336465], [34.074987, -117.749866], [45.04334, -123.95273], [33.249528999999995, -117.221911], [36.749992, -119.871117], [40.7377, -73.93589], [41.347922, -75.27972], [34.06819, -81.171681], [29.958484, -90.110214], [30.411901, -81.748163], [25.93371, -80.121845], [38.769722, -120.436904], [34.398225, -118.462303], [26.052957, -80.161956], [38.747835, -121.268383], [45.48223, -122.5661], [40.56546, -74.55368299999998], [44.99903, -93.08941], [33.55625, -117.180718], [34.235239, -118.412554], [25.942289, -80.30781999999998], [37.520746, -79.716874], [34.242859, -117.28476], [39.418198, -76.632485], [32.961187, -80.678784], [40.92738, -75.08485], [27.91971, -82.60977], [35.756002, -78.601351], [41.137757, -111.799061], [35.790122, -78.70198], [28.37171, -81.40177], [34.067445, -117.580526], [39.393105, -76.542698], [26.007896, -80.288085], [41.293781, -74.027474], [32.932284, -98.24735], [34.643118, -118.236102], [29.66009600000001, -81.667479], [35.009038000000004, -81.016918], [41.90614, -87.944356], [37.61049600000001, -77.534959], [34.07698, -81.151885], [33.88284, -118.34995], [41.609392, -72.900269], [47.300274, -115.122468], [37.393182, -120.739585], [32.677341, -97.055057], [37.397776, -121.960542], [33.941455, -118.025826], [34.087475, -117.64571], [30.465911, -91.133134], [34.087177000000004, -117.669537], [40.72639, -73.76406999999998], [40.75827, -74.05285], [34.805599, -118.228776], [34.06068, -118.16454], [45.102804, -93.188054], [33.830112, -117.260195], [41.864064, -87.923239], [40.206734, -76.219127], [31.773719, -88.425915], [40.613494, -111.431773], [45.366562, -122.59699], [42.37072, -87.89587], [34.037749, -118.281457], [45.387428, -122.578185], [33.974728000000006, -118.236829], [29.70669, -95.27202], [34.598602, -114.632022], [40.051626, -74.188592], [40.75043, -74.1865], [41.79907, -96.05297], [29.64867000000001, -95.57139], [42.1973, -87.98939], [32.911686, -96.880321], [37.555192, -77.40794100000002], [42.50527, -123.36299], [46.876634, -97.105976], [41.11057, -112.055112], [37.911146, -122.586811], [29.639587, -95.288999], [25.708799, -80.284041], [36.117894, -86.809997], [28.589504, -81.377502], [47.375621, -122.720757], [38.61236, -90.2012], [37.018928, -76.446575], [45.54037, -122.67141200000002], [44.943081, -93.07707], [29.742394, -95.41658], [34.329524, -81.06018], [37.995561, -122.066828], [39.87417, -75.04257], [37.367881, -121.923705], [37.303502, -122.03538], [25.686405, -80.35164499999998], [33.47299, -86.82856], [41.393448, -73.596435], [36.159612, -86.792436], [42.010326, -87.90889399999998], [40.486217, -74.42806999999998], [38.597991, -121.401549], [38.59546, -90.5088], [36.07175, -115.20381], [40.55538, -74.21139000000002], [44.109216, -93.958709], [39.960955, -76.684967], [26.260577, -80.132958], [34.250482, -92.10242], [41.24878, -73.07967], [39.125975, -121.07751], [25.88111, -80.32339], [25.728759, -80.429688], [37.024247, -121.561913], [34.082792, -118.300465], [33.322316, -117.24492], [40.72235, -111.90468], [34.056854, -118.00834], [40.17103, -75.07122], [33.972555, -118.079507], [45.05602, -93.1314], [38.65342, -90.19398], [28.34207, -81.53629000000002], [33.906067, -118.058439], [29.731246, -95.266453], [35.070408, -80.773297], [38.84485, -77.00721999999998], [34.04052, -118.18465], [45.62845, -123.36906], [33.521918, -117.166062], [38.135594, -77.509478], [25.872684, -80.208896], [34.853321, -117.084614], [34.041435, -118.273482], [34.308370000000004, -117.470548], [37.534199, -122.365325], [35.779608, -78.606606], [33.76774, -84.38889], [28.486797, -81.440134], [38.668673, -77.26683], [36.119731, -86.802302], [40.013913, -76.314927], [35.25295999999999, -80.89134], [38.577171, -121.507769], [35.630457, -78.566271], [26.679122, -81.79879], [34.122405, -117.911954], [34.252463, -111.270584], [41.4149, -73.27235], [41.21616, -73.81106], [34.146937, -117.335467], [33.928989, -81.037312], [25.931383, -80.30974], [25.900061, -80.209834], [34.026222, -117.333453], [43.921076, -93.083564], [28.259462, -81.43893299999998], [33.33358, -111.89242], [32.755759999999995, -97.3191], [37.088545, -110.010083], [30.248590000000004, -97.769455], [33.070142, -116.884713], [39.952737, -76.65313], [29.820572, -95.410486], [26.10849, -81.74899], [41.89468, -88.10269], [39.640239, -84.238737], [36.20029, -121.10869], [40.02035, -78.185073], [45.175486, -122.856034], [34.888781, -82.372074], [37.703172, -122.155882], [34.152427, -117.323845], [33.889, -117.5124], [39.127726, -121.551021], [25.80927, -80.31626999999997], [40.83489, -75.67352], [34.243944, -118.421319], [43.057503, -74.086609], [35.037436, -80.977724], [47.691059, -94.627272], [39.7802, -104.93225], [44.645401, -92.772277], [40.72429, -111.94386000000002], [28.589518, -81.37751300000002], [39.420089, -123.807908], [25.926761, -80.15597], [30.278344, -97.641396], [38.22935, -122.116996], [40.727828, -73.83904], [33.748051000000004, -117.842981], [25.924768, -80.318422], [29.441181, -98.478559], [47.020317, -122.36946299999998], [36.142578, -86.707924], [40.72269, -111.93899], [26.346505, -80.117944], [35.137386, -80.838923], [34.068534, -118.15127], [33.956433000000004, -117.306314], [34.975813, -86.56904300000002], [25.811364, -80.19022], [34.127790000000005, -80.759976], [35.83965999999999, -78.676591], [33.94311, -118.097774], [26.677857, -80.06952], [40.84707, -73.92560999999998], [27.777949, -82.638549], [46.009143, -95.312501], [44.06162, -92.49822], [25.92446, -80.154219], [32.720764, -96.810871], [34.210317, -118.473438], [33.1001, -111.82808500000002], [32.505036, -93.746477], [40.10386, -82.94086], [47.949475, -104.028285], [26.325564, -80.116866], [27.479392, -82.466737], [33.748151, -117.832373], [36.743568, -121.629614], [36.081895, -86.944226], [41.089222, -112.032024], [33.811887, -118.290389], [43.570344, -116.211194], [34.03067, -117.6067], [38.258353, -121.296283], [28.078833000000003, -80.685039], [35.841041, -78.678311], [28.217226, -82.692614], [27.386511, -82.433121], [34.716570000000004, -82.56312], [47.18056, -122.288743], [25.95197000000001, -80.180014], [37.576935, -122.04726], [38.34693, -122.241986], [37.246624, -113.349455], [29.58613900000001, -95.471327], [32.659231, -86.501101], [38.777854, -76.799249], [45.585747, -118.60009], [34.745249, -82.29829699999998], [30.102834, -97.641076], [34.031103, -117.998466], [41.065681, -73.77349], [37.575926, -122.047449], [28.231953000000004, -80.712801], [25.992883, -80.165989], [39.018711, -76.966934], [37.905982, -121.874104], [40.605936, -111.904835], [37.29561500000001, -120.471488], [45.511294, -120.683642], [38.560302, -121.457306], [36.674991, -119.538341], [33.778994, -118.280332], [34.32065, -118.49594], [32.839089, -117.13518899999998], [35.165888, -80.876153], [32.72025, -117.130254], [37.669748, -77.48349300000002], [34.002034, -118.066518], [33.96745, -118.252021], [41.12135, -73.32857], [32.75837, -97.258054], [43.051611, -76.13608], [40.638732, -74.024123], [39.8493, -75.09619], [39.12937700000001, -76.551586], [38.821116, -77.31854799999998], [32.481411, -93.746048], [39.794074, -84.291461]],\n",
              "                {&quot;blur&quot;: 15, &quot;maxZoom&quot;: 18, &quot;minOpacity&quot;: 0.5, &quot;radius&quot;: 25}\n",
              "            ).addTo(map_07a88482668d1c36b0d2a2e3d51fb818);\n",
              "        \n",
              "&lt;/script&gt;\" style=\"position:absolute;width:100%;height:100%;left:0;top:0;border:none !important;\" allowfullscreen webkitallowfullscreen mozallowfullscreen></iframe></div></div>"
            ],
            "text/plain": [
              "<folium.folium.Map at 0x7f3096341f50>"
            ]
          },
          "execution_count": 141,
          "metadata": {},
          "output_type": "execute_result"
        }
      ],
      "source": [
        "map = folium.Map()\n",
        "HeatMap(lat_lon_pairs).add_to(map)\n",
        "map"
      ]
    },
    {
      "cell_type": "markdown",
      "metadata": {
        "id": "oD4eO7R_dfaV"
      },
      "source": [
        "## Ask and Answer Questions\n",
        "\n",
        "1. Do more accidents occur during warmer or colder areas?\n",
        "2. Is New York listed in the data? If so, how come the count is lower if it is considered to be the highest populated city?\n",
        "3. Among the top 100 cities in the number of accidents, which states do they belong do most frequently?\n",
        "4. Do most cities have a high or low number of accidents?\n",
        "5. What time of the day are accidents most frequent?\n",
        "6. Which days of the week contain the most accidents?\n",
        "7. Which months contain the most accidents?\n",
        "8. What is the trend of accidents each year (increasing/decreasing)?\n",
        "9. What time are accidents happening the most?"
      ]
    },
    {
      "cell_type": "markdown",
      "metadata": {
        "id": "mvGeFf5udkTH"
      },
      "source": [
        "## Summary and Conclusion\n",
        "\n",
        "- No data for New York.\n",
        "- Less than 5% of cities have more than 1000 yearly accidents.\n",
        "- Over 1200 cities have reported just one accident (this needs to be investigated).\n",
        "- The number of accidents per city decreaces exponentially.\n",
        "- Most accidents are occuring between 6 am and 10 am and again between 3 pm and 6 pm.\n",
        "- Accidents also seem to be higher during weekdays (fewer people travel on weekends).\n",
        "- It appears that most accidents occur during afternoons on Sundays. The peak is between 10 am and 3 pm.\n",
        "- Accidents seem to the highest during November/December. This is probably due to harsher weather conditions, slipery roads and a less-clear visibility)"
      ]
    },
    {
      "cell_type": "code",
      "execution_count": null,
      "metadata": {
        "id": "Wvk60EAIWT6U"
      },
      "outputs": [],
      "source": [
        "import jovian"
      ]
    },
    {
      "cell_type": "code",
      "execution_count": null,
      "metadata": {
        "colab": {
          "base_uri": "https://localhost:8080/",
          "height": 89
        },
        "id": "nvGox_gyWWVx",
        "outputId": "fb8400fb-bea9-4a41-e5fe-ce796f1110d0"
      },
      "outputs": [
        {
          "name": "stdout",
          "output_type": "stream",
          "text": [
            "[jovian] Detected Colab notebook...\u001b[0m\n",
            "[jovian] Uploading colab notebook to Jovian...\u001b[0m\n",
            "Committed successfully! https://jovian.ai/salahalbasha/us-accidents-analysis\n"
          ]
        },
        {
          "data": {
            "application/vnd.google.colaboratory.intrinsic+json": {
              "type": "string"
            },
            "text/plain": [
              "'https://jovian.ai/salahalbasha/us-accidents-analysis'"
            ]
          },
          "execution_count": 162,
          "metadata": {},
          "output_type": "execute_result"
        }
      ],
      "source": [
        "jovian.commit()"
      ]
    }
  ],
  "metadata": {
    "colab": {
      "provenance": [],
      "include_colab_link": true
    },
    "kernelspec": {
      "display_name": "Python 3 (ipykernel)",
      "language": "python",
      "name": "python3"
    },
    "language_info": {
      "codemirror_mode": {
        "name": "ipython",
        "version": 3
      },
      "file_extension": ".py",
      "mimetype": "text/x-python",
      "name": "python",
      "nbconvert_exporter": "python",
      "pygments_lexer": "ipython3",
      "version": "3.9.6"
    }
  },
  "nbformat": 4,
  "nbformat_minor": 0
}